{
 "cells": [
  {
   "cell_type": "markdown",
   "metadata": {},
   "source": [
    "### Importing Required Libraries"
   ]
  },
  {
   "cell_type": "code",
   "execution_count": 1,
   "metadata": {
    "executionInfo": {
     "elapsed": 13,
     "status": "ok",
     "timestamp": 1719286079655,
     "user": {
      "displayName": "isuru madhushan",
      "userId": "05680374680553661511"
     },
     "user_tz": -330
    },
    "id": "xeRAqJ_EWh-C"
   },
   "outputs": [
    {
     "name": "stdout",
     "output_type": "stream",
     "text": [
      "WARNING:tensorflow:From c:\\Users\\Admin\\anaconda3\\lib\\site-packages\\keras\\src\\losses.py:2976: The name tf.losses.sparse_softmax_cross_entropy is deprecated. Please use tf.compat.v1.losses.sparse_softmax_cross_entropy instead.\n",
      "\n"
     ]
    }
   ],
   "source": [
    "import tensorflow as tf\n",
    "import numpy as np\n",
    "import matplotlib.pyplot as plt\n",
    "import seaborn as sns\n",
    "import cv2\n",
    "import opendatasets as od"
   ]
  },
  {
   "cell_type": "markdown",
   "metadata": {},
   "source": [
    "### Dowloading Data Set [fer2013]"
   ]
  },
  {
   "cell_type": "code",
   "execution_count": 5,
   "metadata": {
    "colab": {
     "base_uri": "https://localhost:8080/"
    },
    "executionInfo": {
     "elapsed": 35956,
     "status": "ok",
     "timestamp": 1719286233657,
     "user": {
      "displayName": "isuru madhushan",
      "userId": "05680374680553661511"
     },
     "user_tz": -330
    },
    "id": "ccRuB7n9W36d",
    "outputId": "1c2d3178-52aa-47a9-bd10-1167ef4f63cc"
   },
   "outputs": [
    {
     "name": "stdout",
     "output_type": "stream",
     "text": [
      "Please provide your Kaggle credentials to download this dataset. Learn more: http://bit.ly/kaggle-creds\n",
      "Your Kaggle username:Your Kaggle Key:Dataset URL: https://www.kaggle.com/datasets/msambare/fer2013\n",
      "Downloading fer2013.zip to ../Data_Set/fer2013\n"
     ]
    },
    {
     "name": "stderr",
     "output_type": "stream",
     "text": [
      "100%|██████████| 60.3M/60.3M [04:10<00:00, 252kB/s]\n"
     ]
    },
    {
     "name": "stdout",
     "output_type": "stream",
     "text": [
      "\n"
     ]
    }
   ],
   "source": [
    "od.download(\"https://www.kaggle.com/datasets/msambare/fer2013\",data_dir=\"../Data_Set/\")"
   ]
  },
  {
   "cell_type": "markdown",
   "metadata": {},
   "source": [
    "### Get the shape of the image"
   ]
  },
  {
   "cell_type": "code",
   "execution_count": 2,
   "metadata": {
    "colab": {
     "base_uri": "https://localhost:8080/"
    },
    "executionInfo": {
     "elapsed": 832,
     "status": "ok",
     "timestamp": 1719286319561,
     "user": {
      "displayName": "isuru madhushan",
      "userId": "05680374680553661511"
     },
     "user_tz": -330
    },
    "id": "D4BDpIhCWh-G",
    "outputId": "c5c58a30-7f25-463f-e88b-e5d357badd12"
   },
   "outputs": [
    {
     "data": {
      "text/plain": [
       "(48, 48, 3)"
      ]
     },
     "execution_count": 2,
     "metadata": {},
     "output_type": "execute_result"
    }
   ],
   "source": [
    "img_array = cv2.imread(\"../Data_Set/fer2013/train/angry/Training_3908.jpg\")\n",
    "img_array.shape"
   ]
  },
  {
   "cell_type": "markdown",
   "metadata": {
    "id": "qZ5sLIhpWh-I"
   },
   "source": [
    "Hense image is RGB image due to the three channels"
   ]
  },
  {
   "cell_type": "code",
   "execution_count": 3,
   "metadata": {
    "colab": {
     "base_uri": "https://localhost:8080/",
     "height": 448
    },
    "executionInfo": {
     "elapsed": 1038,
     "status": "ok",
     "timestamp": 1719286322417,
     "user": {
      "displayName": "isuru madhushan",
      "userId": "05680374680553661511"
     },
     "user_tz": -330
    },
    "id": "_tpltivIWh-L",
    "outputId": "9bb54e4c-5be5-4f7c-f6dd-38d20f653d00"
   },
   "outputs": [
    {
     "data": {
      "text/plain": [
       "<matplotlib.image.AxesImage at 0x21a5f0663a0>"
      ]
     },
     "execution_count": 3,
     "metadata": {},
     "output_type": "execute_result"
    },
    {
     "data": {
      "image/png": "[encoded data removed]",
      "text/plain": [
       "<Figure size 640x480 with 1 Axes>"
      ]
     },
     "metadata": {},
     "output_type": "display_data"
    }
   ],
   "source": [
    "plt.imshow(img_array)  #RGB"
   ]
  },
  {
   "cell_type": "code",
   "execution_count": 4,
   "metadata": {
    "executionInfo": {
     "elapsed": 9,
     "status": "ok",
     "timestamp": 1719286322418,
     "user": {
      "displayName": "isuru madhushan",
      "userId": "05680374680553661511"
     },
     "user_tz": -330
    },
    "id": "OleWXV4ZWh-M"
   },
   "outputs": [],
   "source": [
    "train_data_dir ='../Data_Set/fer2013/train'\n",
    "test_data_dir ='../Data_Set/fer2013/test'"
   ]
  },
  {
   "cell_type": "code",
   "execution_count": 5,
   "metadata": {
    "executionInfo": {
     "elapsed": 8,
     "status": "ok",
     "timestamp": 1719286323169,
     "user": {
      "displayName": "isuru madhushan",
      "userId": "05680374680553661511"
     },
     "user_tz": -330
    },
    "id": "d6gvaozLWh-M"
   },
   "outputs": [],
   "source": [
    "BATCH_SIZE = 64\n",
    "IMAGE_SIZE =(224,224)"
   ]
  },
  {
   "cell_type": "markdown",
   "metadata": {},
   "source": [
    "### Spliting data into train, validation and test"
   ]
  },
  {
   "cell_type": "code",
   "execution_count": 6,
   "metadata": {
    "colab": {
     "base_uri": "https://localhost:8080/"
    },
    "executionInfo": {
     "elapsed": 4802,
     "status": "ok",
     "timestamp": 1719286328766,
     "user": {
      "displayName": "isuru madhushan",
      "userId": "05680374680553661511"
     },
     "user_tz": -330
    },
    "id": "vmUQD8TCWh-N",
    "outputId": "27e1f451-c117-46b4-ee80-fd5a94d721e5"
   },
   "outputs": [
    {
     "name": "stdout",
     "output_type": "stream",
     "text": [
      "Found 28709 files belonging to 7 classes.\n",
      "Using 25839 files for training.\n",
      "Found 28709 files belonging to 7 classes.\n",
      "Using 2870 files for validation.\n",
      "Found 7178 files belonging to 7 classes.\n"
     ]
    }
   ],
   "source": [
    "train_data = tf.keras.utils.image_dataset_from_directory(train_data_dir,\n",
    "                                                         batch_size=BATCH_SIZE,\n",
    "                                                         image_size=IMAGE_SIZE,\n",
    "                                                         subset='training',\n",
    "                                                         validation_split=0.1,\n",
    "                                                         seed=42)\n",
    "\n",
    "validation_data = tf.keras.utils.image_dataset_from_directory(train_data_dir,\n",
    "                                                         batch_size=BATCH_SIZE,\n",
    "                                                         image_size=IMAGE_SIZE,\n",
    "                                                         subset='validation',\n",
    "                                                         validation_split=0.1,\n",
    "                                                         seed=42)\n",
    "\n",
    "test_data = tf.keras.utils.image_dataset_from_directory(test_data_dir,\n",
    "                                                         batch_size=BATCH_SIZE,\n",
    "                                                         image_size=IMAGE_SIZE)\n"
   ]
  },
  {
   "cell_type": "markdown",
   "metadata": {},
   "source": [
    "* For the Training used : 25839 images\n",
    "* For the Validation used : 2870 images\n",
    "* For the Testing used : 7178 images"
   ]
  },
  {
   "cell_type": "markdown",
   "metadata": {
    "id": "DXp1zwuAWh-N"
   },
   "source": [
    "Clsses of the trainning data"
   ]
  },
  {
   "cell_type": "code",
   "execution_count": 8,
   "metadata": {
    "colab": {
     "base_uri": "https://localhost:8080/"
    },
    "executionInfo": {
     "elapsed": 26,
     "status": "ok",
     "timestamp": 1719286328767,
     "user": {
      "displayName": "isuru madhushan",
      "userId": "05680374680553661511"
     },
     "user_tz": -330
    },
    "id": "eugsNsW1Wh-O",
    "outputId": "2305b200-2ddd-4bab-9f4f-ae12b8b06e9b"
   },
   "outputs": [
    {
     "data": {
      "text/plain": [
       "['angry', 'disgust', 'fear', 'happy', 'neutral', 'sad', 'surprise']"
      ]
     },
     "execution_count": 8,
     "metadata": {},
     "output_type": "execute_result"
    }
   ],
   "source": [
    "train_data.class_names"
   ]
  },
  {
   "cell_type": "markdown",
   "metadata": {
    "id": "pLYqm8liWh-O"
   },
   "source": [
    "Classes of the testing data"
   ]
  },
  {
   "cell_type": "code",
   "execution_count": 7,
   "metadata": {
    "colab": {
     "base_uri": "https://localhost:8080/"
    },
    "executionInfo": {
     "elapsed": 17,
     "status": "ok",
     "timestamp": 1719286328768,
     "user": {
      "displayName": "isuru madhushan",
      "userId": "05680374680553661511"
     },
     "user_tz": -330
    },
    "id": "fXiO1Hs6Wh-P",
    "outputId": "073199ad-f0e8-43f6-f77e-a7808298d537"
   },
   "outputs": [
    {
     "data": {
      "text/plain": [
       "['angry', 'disgust', 'fear', 'happy', 'neutral', 'sad', 'surprise']"
      ]
     },
     "execution_count": 7,
     "metadata": {},
     "output_type": "execute_result"
    }
   ],
   "source": [
    "test_data.class_names"
   ]
  },
  {
   "cell_type": "code",
   "execution_count": 8,
   "metadata": {
    "colab": {
     "base_uri": "https://localhost:8080/"
    },
    "executionInfo": {
     "elapsed": 12,
     "status": "ok",
     "timestamp": 1719286328769,
     "user": {
      "displayName": "isuru madhushan",
      "userId": "05680374680553661511"
     },
     "user_tz": -330
    },
    "id": "bZA_IqjJWh-Q",
    "outputId": "aa00b89f-3627-4e52-856c-f71e27a5e0e6"
   },
   "outputs": [
    {
     "name": "stdout",
     "output_type": "stream",
     "text": [
      "Number of batches: 404\n"
     ]
    }
   ],
   "source": [
    "# Determine the number of batches\n",
    "num_batches = tf.data.experimental.cardinality(train_data).numpy()\n",
    "print(f\"Number of batches: {num_batches}\")"
   ]
  },
  {
   "cell_type": "code",
   "execution_count": 9,
   "metadata": {},
   "outputs": [
    {
     "name": "stdout",
     "output_type": "stream",
     "text": [
      "Number of samples: 25856\n"
     ]
    }
   ],
   "source": [
    "# Determine the total number of samples\n",
    "num_samples = num_batches * BATCH_SIZE\n",
    "print(f\"Number of samples: {num_samples}\")"
   ]
  },
  {
   "cell_type": "markdown",
   "metadata": {
    "id": "BOwenLQKWh-Q"
   },
   "source": [
    "### Training data set"
   ]
  },
  {
   "cell_type": "code",
   "execution_count": 10,
   "metadata": {
    "colab": {
     "base_uri": "https://localhost:8080/"
    },
    "executionInfo": {
     "elapsed": 781,
     "status": "ok",
     "timestamp": 1719286330288,
     "user": {
      "displayName": "isuru madhushan",
      "userId": "05680374680553661511"
     },
     "user_tz": -330
    },
    "id": "K4Lvu678Wh-R",
    "outputId": "1ec9bdc4-2b07-4b9d-8468-93ae48167252"
   },
   "outputs": [
    {
     "name": "stdout",
     "output_type": "stream",
     "text": [
      "tf.Tensor(\n",
      "[[[[0.00000000e+00 0.00000000e+00 0.00000000e+00]\n",
      "   [0.00000000e+00 0.00000000e+00 0.00000000e+00]\n",
      "   [7.14285374e-02 7.14285374e-02 7.14285374e-02]\n",
      "   ...\n",
      "   [0.00000000e+00 0.00000000e+00 0.00000000e+00]\n",
      "   [0.00000000e+00 0.00000000e+00 0.00000000e+00]\n",
      "   [0.00000000e+00 0.00000000e+00 0.00000000e+00]]\n",
      "\n",
      "  [[0.00000000e+00 0.00000000e+00 0.00000000e+00]\n",
      "   [0.00000000e+00 0.00000000e+00 0.00000000e+00]\n",
      "   [7.14285374e-02 7.14285374e-02 7.14285374e-02]\n",
      "   ...\n",
      "   [0.00000000e+00 0.00000000e+00 0.00000000e+00]\n",
      "   [0.00000000e+00 0.00000000e+00 0.00000000e+00]\n",
      "   [0.00000000e+00 0.00000000e+00 0.00000000e+00]]\n",
      "\n",
      "  [[1.42857075e-01 1.42857075e-01 1.42857075e-01]\n",
      "   [1.42857075e-01 1.42857075e-01 1.42857075e-01]\n",
      "   [2.09183574e-01 2.09183574e-01 2.09183574e-01]\n",
      "   ...\n",
      "   [0.00000000e+00 0.00000000e+00 0.00000000e+00]\n",
      "   [0.00000000e+00 0.00000000e+00 0.00000000e+00]\n",
      "   [0.00000000e+00 0.00000000e+00 0.00000000e+00]]\n",
      "\n",
      "  ...\n",
      "\n",
      "  [[1.10000000e+01 1.10000000e+01 1.10000000e+01]\n",
      "   [1.10000000e+01 1.10000000e+01 1.10000000e+01]\n",
      "   [1.12806120e+01 1.12806120e+01 1.12806120e+01]\n",
      "   ...\n",
      "   [0.00000000e+00 0.00000000e+00 0.00000000e+00]\n",
      "   [0.00000000e+00 0.00000000e+00 0.00000000e+00]\n",
      "   [0.00000000e+00 0.00000000e+00 0.00000000e+00]]\n",
      "\n",
      "  [[1.10000000e+01 1.10000000e+01 1.10000000e+01]\n",
      "   [1.10000000e+01 1.10000000e+01 1.10000000e+01]\n",
      "   [1.12857141e+01 1.12857141e+01 1.12857141e+01]\n",
      "   ...\n",
      "   [0.00000000e+00 0.00000000e+00 0.00000000e+00]\n",
      "   [0.00000000e+00 0.00000000e+00 0.00000000e+00]\n",
      "   [0.00000000e+00 0.00000000e+00 0.00000000e+00]]\n",
      "\n",
      "  [[1.10000000e+01 1.10000000e+01 1.10000000e+01]\n",
      "   [1.10000000e+01 1.10000000e+01 1.10000000e+01]\n",
      "   [1.12857141e+01 1.12857141e+01 1.12857141e+01]\n",
      "   ...\n",
      "   [0.00000000e+00 0.00000000e+00 0.00000000e+00]\n",
      "   [0.00000000e+00 0.00000000e+00 0.00000000e+00]\n",
      "   [0.00000000e+00 0.00000000e+00 0.00000000e+00]]]\n",
      "\n",
      "\n",
      " [[[2.24000000e+02 2.24000000e+02 2.24000000e+02]\n",
      "   [2.24000000e+02 2.24000000e+02 2.24000000e+02]\n",
      "   [2.24000000e+02 2.24000000e+02 2.24000000e+02]\n",
      "   ...\n",
      "   [4.54642715e+01 4.54642715e+01 4.54642715e+01]\n",
      "   [4.50000000e+01 4.50000000e+01 4.50000000e+01]\n",
      "   [4.50000000e+01 4.50000000e+01 4.50000000e+01]]\n",
      "\n",
      "  [[2.24000000e+02 2.24000000e+02 2.24000000e+02]\n",
      "   [2.24000000e+02 2.24000000e+02 2.24000000e+02]\n",
      "   [2.24000000e+02 2.24000000e+02 2.24000000e+02]\n",
      "   ...\n",
      "   [4.54642715e+01 4.54642715e+01 4.54642715e+01]\n",
      "   [4.50000000e+01 4.50000000e+01 4.50000000e+01]\n",
      "   [4.50000000e+01 4.50000000e+01 4.50000000e+01]]\n",
      "\n",
      "  [[2.23964279e+02 2.23964279e+02 2.23964279e+02]\n",
      "   [2.23964279e+02 2.23964279e+02 2.23964279e+02]\n",
      "   [2.23969391e+02 2.23969391e+02 2.23969391e+02]\n",
      "   ...\n",
      "   [4.58073845e+01 4.58073845e+01 4.58073845e+01]\n",
      "   [4.53571434e+01 4.53571434e+01 4.53571434e+01]\n",
      "   [4.53571434e+01 4.53571434e+01 4.53571434e+01]]\n",
      "\n",
      "  ...\n",
      "\n",
      "  [[5.00357132e+01 5.00357132e+01 5.00357132e+01]\n",
      "   [5.00357132e+01 5.00357132e+01 5.00357132e+01]\n",
      "   [4.94349480e+01 4.94349480e+01 4.94349480e+01]\n",
      "   ...\n",
      "   [1.70830368e+02 1.70830368e+02 1.70830368e+02]\n",
      "   [1.71035706e+02 1.71035706e+02 1.71035706e+02]\n",
      "   [1.71035706e+02 1.71035706e+02 1.71035706e+02]]\n",
      "\n",
      "  [[5.00000000e+01 5.00000000e+01 5.00000000e+01]\n",
      "   [5.00000000e+01 5.00000000e+01 5.00000000e+01]\n",
      "   [4.93928566e+01 4.93928566e+01 4.93928566e+01]\n",
      "   ...\n",
      "   [1.70785721e+02 1.70785721e+02 1.70785721e+02]\n",
      "   [1.71000000e+02 1.71000000e+02 1.71000000e+02]\n",
      "   [1.71000000e+02 1.71000000e+02 1.71000000e+02]]\n",
      "\n",
      "  [[5.00000000e+01 5.00000000e+01 5.00000000e+01]\n",
      "   [5.00000000e+01 5.00000000e+01 5.00000000e+01]\n",
      "   [4.93928566e+01 4.93928566e+01 4.93928566e+01]\n",
      "   ...\n",
      "   [1.70785721e+02 1.70785721e+02 1.70785721e+02]\n",
      "   [1.71000000e+02 1.71000000e+02 1.71000000e+02]\n",
      "   [1.71000000e+02 1.71000000e+02 1.71000000e+02]]]\n",
      "\n",
      "\n",
      " [[[2.00000000e+00 2.00000000e+00 2.00000000e+00]\n",
      "   [2.00000000e+00 2.00000000e+00 2.00000000e+00]\n",
      "   [2.25000000e+00 2.25000000e+00 2.25000000e+00]\n",
      "   ...\n",
      "   [3.24642715e+01 3.24642715e+01 3.24642715e+01]\n",
      "   [3.20000000e+01 3.20000000e+01 3.20000000e+01]\n",
      "   [3.20000000e+01 3.20000000e+01 3.20000000e+01]]\n",
      "\n",
      "  [[2.00000000e+00 2.00000000e+00 2.00000000e+00]\n",
      "   [2.00000000e+00 2.00000000e+00 2.00000000e+00]\n",
      "   [2.25000000e+00 2.25000000e+00 2.25000000e+00]\n",
      "   ...\n",
      "   [3.24642715e+01 3.24642715e+01 3.24642715e+01]\n",
      "   [3.20000000e+01 3.20000000e+01 3.20000000e+01]\n",
      "   [3.20000000e+01 3.20000000e+01 3.20000000e+01]]\n",
      "\n",
      "  [[2.00000000e+00 2.00000000e+00 2.00000000e+00]\n",
      "   [2.00000000e+00 2.00000000e+00 2.00000000e+00]\n",
      "   [2.25637746e+00 2.25637746e+00 2.25637746e+00]\n",
      "   ...\n",
      "   [3.37754974e+01 3.37754974e+01 3.37754974e+01]\n",
      "   [3.33214264e+01 3.33214264e+01 3.33214264e+01]\n",
      "   [3.33214264e+01 3.33214264e+01 3.33214264e+01]]\n",
      "\n",
      "  ...\n",
      "\n",
      "  [[1.19392876e+02 1.19392876e+02 1.19392876e+02]\n",
      "   [1.19392876e+02 1.19392876e+02 1.19392876e+02]\n",
      "   [1.19201546e+02 1.19201546e+02 1.19201546e+02]\n",
      "   ...\n",
      "   [1.28602051e+02 1.28602051e+02 1.28602051e+02]\n",
      "   [1.29142853e+02 1.29142853e+02 1.29142853e+02]\n",
      "   [1.29142853e+02 1.29142853e+02 1.29142853e+02]]\n",
      "\n",
      "  [[1.20000000e+02 1.20000000e+02 1.20000000e+02]\n",
      "   [1.20000000e+02 1.20000000e+02 1.20000000e+02]\n",
      "   [1.19785713e+02 1.19785713e+02 1.19785713e+02]\n",
      "   ...\n",
      "   [1.28464294e+02 1.28464294e+02 1.28464294e+02]\n",
      "   [1.29000000e+02 1.29000000e+02 1.29000000e+02]\n",
      "   [1.29000000e+02 1.29000000e+02 1.29000000e+02]]\n",
      "\n",
      "  [[1.20000000e+02 1.20000000e+02 1.20000000e+02]\n",
      "   [1.20000000e+02 1.20000000e+02 1.20000000e+02]\n",
      "   [1.19785713e+02 1.19785713e+02 1.19785713e+02]\n",
      "   ...\n",
      "   [1.28464294e+02 1.28464294e+02 1.28464294e+02]\n",
      "   [1.29000000e+02 1.29000000e+02 1.29000000e+02]\n",
      "   [1.29000000e+02 1.29000000e+02 1.29000000e+02]]]\n",
      "\n",
      "\n",
      " ...\n",
      "\n",
      "\n",
      " [[[8.70000000e+01 8.70000000e+01 8.70000000e+01]\n",
      "   [8.70000000e+01 8.70000000e+01 8.70000000e+01]\n",
      "   [8.65000000e+01 8.65000000e+01 8.65000000e+01]\n",
      "   ...\n",
      "   [8.70000000e+01 8.70000000e+01 8.70000000e+01]\n",
      "   [8.70000000e+01 8.70000000e+01 8.70000000e+01]\n",
      "   [8.70000000e+01 8.70000000e+01 8.70000000e+01]]\n",
      "\n",
      "  [[8.70000000e+01 8.70000000e+01 8.70000000e+01]\n",
      "   [8.70000000e+01 8.70000000e+01 8.70000000e+01]\n",
      "   [8.65000000e+01 8.65000000e+01 8.65000000e+01]\n",
      "   ...\n",
      "   [8.70000000e+01 8.70000000e+01 8.70000000e+01]\n",
      "   [8.70000000e+01 8.70000000e+01 8.70000000e+01]\n",
      "   [8.70000000e+01 8.70000000e+01 8.70000000e+01]]\n",
      "\n",
      "  [[8.69642868e+01 8.69642868e+01 8.69642868e+01]\n",
      "   [8.69642868e+01 8.69642868e+01 8.69642868e+01]\n",
      "   [8.64744873e+01 8.64744873e+01 8.64744873e+01]\n",
      "   ...\n",
      "   [8.76224518e+01 8.76224518e+01 8.76224518e+01]\n",
      "   [8.76071396e+01 8.76071396e+01 8.76071396e+01]\n",
      "   [8.76071396e+01 8.76071396e+01 8.76071396e+01]]\n",
      "\n",
      "  ...\n",
      "\n",
      "  [[1.35964294e+02 1.35964294e+02 1.35964294e+02]\n",
      "   [1.35964294e+02 1.35964294e+02 1.35964294e+02]\n",
      "   [1.35951538e+02 1.35951538e+02 1.35951538e+02]\n",
      "   ...\n",
      "   [5.60395393e+01 5.60395393e+01 5.60395393e+01]\n",
      "   [5.57857208e+01 5.57857208e+01 5.57857208e+01]\n",
      "   [5.57857208e+01 5.57857208e+01 5.57857208e+01]]\n",
      "\n",
      "  [[1.36000000e+02 1.36000000e+02 1.36000000e+02]\n",
      "   [1.36000000e+02 1.36000000e+02 1.36000000e+02]\n",
      "   [1.36000000e+02 1.36000000e+02 1.36000000e+02]\n",
      "   ...\n",
      "   [5.62499924e+01 5.62499924e+01 5.62499924e+01]\n",
      "   [5.60000000e+01 5.60000000e+01 5.60000000e+01]\n",
      "   [5.60000000e+01 5.60000000e+01 5.60000000e+01]]\n",
      "\n",
      "  [[1.36000000e+02 1.36000000e+02 1.36000000e+02]\n",
      "   [1.36000000e+02 1.36000000e+02 1.36000000e+02]\n",
      "   [1.36000000e+02 1.36000000e+02 1.36000000e+02]\n",
      "   ...\n",
      "   [5.62499924e+01 5.62499924e+01 5.62499924e+01]\n",
      "   [5.60000000e+01 5.60000000e+01 5.60000000e+01]\n",
      "   [5.60000000e+01 5.60000000e+01 5.60000000e+01]]]\n",
      "\n",
      "\n",
      " [[[2.18000000e+02 2.18000000e+02 2.18000000e+02]\n",
      "   [2.18000000e+02 2.18000000e+02 2.18000000e+02]\n",
      "   [2.18035721e+02 2.18035721e+02 2.18035721e+02]\n",
      "   ...\n",
      "   [2.26964294e+02 2.26964294e+02 2.26964294e+02]\n",
      "   [2.27000000e+02 2.27000000e+02 2.27000000e+02]\n",
      "   [2.27000000e+02 2.27000000e+02 2.27000000e+02]]\n",
      "\n",
      "  [[2.18000000e+02 2.18000000e+02 2.18000000e+02]\n",
      "   [2.18000000e+02 2.18000000e+02 2.18000000e+02]\n",
      "   [2.18035721e+02 2.18035721e+02 2.18035721e+02]\n",
      "   ...\n",
      "   [2.26964294e+02 2.26964294e+02 2.26964294e+02]\n",
      "   [2.27000000e+02 2.27000000e+02 2.27000000e+02]\n",
      "   [2.27000000e+02 2.27000000e+02 2.27000000e+02]]\n",
      "\n",
      "  [[2.17964279e+02 2.17964279e+02 2.17964279e+02]\n",
      "   [2.17964279e+02 2.17964279e+02 2.17964279e+02]\n",
      "   [2.18000000e+02 2.18000000e+02 2.18000000e+02]\n",
      "   ...\n",
      "   [2.26859695e+02 2.26859695e+02 2.26859695e+02]\n",
      "   [2.26892853e+02 2.26892853e+02 2.26892853e+02]\n",
      "   [2.26892853e+02 2.26892853e+02 2.26892853e+02]]\n",
      "\n",
      "  ...\n",
      "\n",
      "  [[2.15000000e+02 2.15000000e+02 2.15000000e+02]\n",
      "   [2.15000000e+02 2.15000000e+02 2.15000000e+02]\n",
      "   [2.15000000e+02 2.15000000e+02 2.15000000e+02]\n",
      "   ...\n",
      "   [2.16998718e+02 2.16998718e+02 2.16998718e+02]\n",
      "   [2.17000000e+02 2.17000000e+02 2.17000000e+02]\n",
      "   [2.17000000e+02 2.17000000e+02 2.17000000e+02]]\n",
      "\n",
      "  [[2.15000000e+02 2.15000000e+02 2.15000000e+02]\n",
      "   [2.15000000e+02 2.15000000e+02 2.15000000e+02]\n",
      "   [2.15000000e+02 2.15000000e+02 2.15000000e+02]\n",
      "   ...\n",
      "   [2.17000000e+02 2.17000000e+02 2.17000000e+02]\n",
      "   [2.17000000e+02 2.17000000e+02 2.17000000e+02]\n",
      "   [2.17000000e+02 2.17000000e+02 2.17000000e+02]]\n",
      "\n",
      "  [[2.15000000e+02 2.15000000e+02 2.15000000e+02]\n",
      "   [2.15000000e+02 2.15000000e+02 2.15000000e+02]\n",
      "   [2.15000000e+02 2.15000000e+02 2.15000000e+02]\n",
      "   ...\n",
      "   [2.17000000e+02 2.17000000e+02 2.17000000e+02]\n",
      "   [2.17000000e+02 2.17000000e+02 2.17000000e+02]\n",
      "   [2.17000000e+02 2.17000000e+02 2.17000000e+02]]]\n",
      "\n",
      "\n",
      " [[[1.91000000e+02 1.91000000e+02 1.91000000e+02]\n",
      "   [1.91000000e+02 1.91000000e+02 1.91000000e+02]\n",
      "   [1.90964279e+02 1.90964279e+02 1.90964279e+02]\n",
      "   ...\n",
      "   [1.87142853e+02 1.87142853e+02 1.87142853e+02]\n",
      "   [1.87000000e+02 1.87000000e+02 1.87000000e+02]\n",
      "   [1.87000000e+02 1.87000000e+02 1.87000000e+02]]\n",
      "\n",
      "  [[1.91000000e+02 1.91000000e+02 1.91000000e+02]\n",
      "   [1.91000000e+02 1.91000000e+02 1.91000000e+02]\n",
      "   [1.90964279e+02 1.90964279e+02 1.90964279e+02]\n",
      "   ...\n",
      "   [1.87142853e+02 1.87142853e+02 1.87142853e+02]\n",
      "   [1.87000000e+02 1.87000000e+02 1.87000000e+02]\n",
      "   [1.87000000e+02 1.87000000e+02 1.87000000e+02]]\n",
      "\n",
      "  [[1.90964279e+02 1.90964279e+02 1.90964279e+02]\n",
      "   [1.90964279e+02 1.90964279e+02 1.90964279e+02]\n",
      "   [1.90929840e+02 1.90929840e+02 1.90929840e+02]\n",
      "   ...\n",
      "   [1.87206635e+02 1.87206635e+02 1.87206635e+02]\n",
      "   [1.87071426e+02 1.87071426e+02 1.87071426e+02]\n",
      "   [1.87071426e+02 1.87071426e+02 1.87071426e+02]]\n",
      "\n",
      "  ...\n",
      "\n",
      "  [[1.08928574e+02 1.08928574e+02 1.08928574e+02]\n",
      "   [1.08928574e+02 1.08928574e+02 1.08928574e+02]\n",
      "   [1.09463013e+02 1.09463013e+02 1.09463013e+02]\n",
      "   ...\n",
      "   [9.82818756e+01 9.82818756e+01 9.82818756e+01]\n",
      "   [9.80714264e+01 9.80714264e+01 9.80714264e+01]\n",
      "   [9.80714264e+01 9.80714264e+01 9.80714264e+01]]\n",
      "\n",
      "  [[1.09000000e+02 1.09000000e+02 1.09000000e+02]\n",
      "   [1.09000000e+02 1.09000000e+02 1.09000000e+02]\n",
      "   [1.09535713e+02 1.09535713e+02 1.09535713e+02]\n",
      "   ...\n",
      "   [9.82142792e+01 9.82142792e+01 9.82142792e+01]\n",
      "   [9.80000000e+01 9.80000000e+01 9.80000000e+01]\n",
      "   [9.80000000e+01 9.80000000e+01 9.80000000e+01]]\n",
      "\n",
      "  [[1.09000000e+02 1.09000000e+02 1.09000000e+02]\n",
      "   [1.09000000e+02 1.09000000e+02 1.09000000e+02]\n",
      "   [1.09535713e+02 1.09535713e+02 1.09535713e+02]\n",
      "   ...\n",
      "   [9.82142792e+01 9.82142792e+01 9.82142792e+01]\n",
      "   [9.80000000e+01 9.80000000e+01 9.80000000e+01]\n",
      "   [9.80000000e+01 9.80000000e+01 9.80000000e+01]]]], shape=(64, 224, 224, 3), dtype=float32)\n",
      "tf.Tensor(\n",
      "[5 3 3 5 2 3 3 3 5 3 3 4 4 5 4 3 6 3 2 3 3 3 6 5 2 2 4 2 5 3 3 3 3 5 6 4 4\n",
      " 4 6 3 4 3 5 4 5 3 3 6 3 2 4 5 3 4 5 5 3 2 6 4 3 5 3 4], shape=(64,), dtype=int32)\n"
     ]
    }
   ],
   "source": [
    "for image_batch,label_batch in train_data.take(1):\n",
    "  print(image_batch)\n",
    "  print(label_batch)"
   ]
  },
  {
   "cell_type": "markdown",
   "metadata": {
    "id": "un9MDrE7Wh-R"
   },
   "source": [
    "### Testing data set"
   ]
  },
  {
   "cell_type": "code",
   "execution_count": 13,
   "metadata": {
    "colab": {
     "base_uri": "https://localhost:8080/"
    },
    "executionInfo": {
     "elapsed": 756,
     "status": "ok",
     "timestamp": 1719286331793,
     "user": {
      "displayName": "isuru madhushan",
      "userId": "05680374680553661511"
     },
     "user_tz": -330
    },
    "id": "ENdOWvPdWh-S",
    "outputId": "04b81078-3feb-48aa-cc4b-2e883760e09c"
   },
   "outputs": [
    {
     "name": "stdout",
     "output_type": "stream",
     "text": [
      "tf.Tensor(\n",
      "[[[[0.0000000e+00 0.0000000e+00 0.0000000e+00]\n",
      "   [0.0000000e+00 0.0000000e+00 0.0000000e+00]\n",
      "   [3.5714269e-02 3.5714269e-02 3.5714269e-02]\n",
      "   ...\n",
      "   [0.0000000e+00 0.0000000e+00 0.0000000e+00]\n",
      "   [0.0000000e+00 0.0000000e+00 0.0000000e+00]\n",
      "   [0.0000000e+00 0.0000000e+00 0.0000000e+00]]\n",
      "\n",
      "  [[0.0000000e+00 0.0000000e+00 0.0000000e+00]\n",
      "   [0.0000000e+00 0.0000000e+00 0.0000000e+00]\n",
      "   [3.5714269e-02 3.5714269e-02 3.5714269e-02]\n",
      "   ...\n",
      "   [0.0000000e+00 0.0000000e+00 0.0000000e+00]\n",
      "   [0.0000000e+00 0.0000000e+00 0.0000000e+00]\n",
      "   [0.0000000e+00 0.0000000e+00 0.0000000e+00]]\n",
      "\n",
      "  [[0.0000000e+00 0.0000000e+00 0.0000000e+00]\n",
      "   [0.0000000e+00 0.0000000e+00 0.0000000e+00]\n",
      "   [3.4438759e-02 3.4438759e-02 3.4438759e-02]\n",
      "   ...\n",
      "   [0.0000000e+00 0.0000000e+00 0.0000000e+00]\n",
      "   [0.0000000e+00 0.0000000e+00 0.0000000e+00]\n",
      "   [0.0000000e+00 0.0000000e+00 0.0000000e+00]]\n",
      "\n",
      "  ...\n",
      "\n",
      "  [[8.9642868e+00 8.9642868e+00 8.9642868e+00]\n",
      "   [8.9642868e+00 8.9642868e+00 8.9642868e+00]\n",
      "   [8.9285727e+00 8.9285727e+00 8.9285727e+00]\n",
      "   ...\n",
      "   [2.8103313e+01 2.8103313e+01 2.8103313e+01]\n",
      "   [2.8071426e+01 2.8071426e+01 2.8071426e+01]\n",
      "   [2.8071426e+01 2.8071426e+01 2.8071426e+01]]\n",
      "\n",
      "  [[9.0000000e+00 9.0000000e+00 9.0000000e+00]\n",
      "   [9.0000000e+00 9.0000000e+00 9.0000000e+00]\n",
      "   [8.9642859e+00 8.9642859e+00 8.9642859e+00]\n",
      "   ...\n",
      "   [2.8035713e+01 2.8035713e+01 2.8035713e+01]\n",
      "   [2.8000000e+01 2.8000000e+01 2.8000000e+01]\n",
      "   [2.8000000e+01 2.8000000e+01 2.8000000e+01]]\n",
      "\n",
      "  [[9.0000000e+00 9.0000000e+00 9.0000000e+00]\n",
      "   [9.0000000e+00 9.0000000e+00 9.0000000e+00]\n",
      "   [8.9642859e+00 8.9642859e+00 8.9642859e+00]\n",
      "   ...\n",
      "   [2.8035713e+01 2.8035713e+01 2.8035713e+01]\n",
      "   [2.8000000e+01 2.8000000e+01 2.8000000e+01]\n",
      "   [2.8000000e+01 2.8000000e+01 2.8000000e+01]]]\n",
      "\n",
      "\n",
      " [[[1.5500000e+02 1.5500000e+02 1.5500000e+02]\n",
      "   [1.5500000e+02 1.5500000e+02 1.5500000e+02]\n",
      "   [1.5496428e+02 1.5496428e+02 1.5496428e+02]\n",
      "   ...\n",
      "   [1.3221428e+02 1.3221428e+02 1.3221428e+02]\n",
      "   [1.3200000e+02 1.3200000e+02 1.3200000e+02]\n",
      "   [1.3200000e+02 1.3200000e+02 1.3200000e+02]]\n",
      "\n",
      "  [[1.5500000e+02 1.5500000e+02 1.5500000e+02]\n",
      "   [1.5500000e+02 1.5500000e+02 1.5500000e+02]\n",
      "   [1.5496428e+02 1.5496428e+02 1.5496428e+02]\n",
      "   ...\n",
      "   [1.3221428e+02 1.3221428e+02 1.3221428e+02]\n",
      "   [1.3200000e+02 1.3200000e+02 1.3200000e+02]\n",
      "   [1.3200000e+02 1.3200000e+02 1.3200000e+02]]\n",
      "\n",
      "  [[1.5489285e+02 1.5489285e+02 1.5489285e+02]\n",
      "   [1.5489285e+02 1.5489285e+02 1.5489285e+02]\n",
      "   [1.5484438e+02 1.5484438e+02 1.5484438e+02]\n",
      "   ...\n",
      "   [1.3246045e+02 1.3246045e+02 1.3246045e+02]\n",
      "   [1.3225000e+02 1.3225000e+02 1.3225000e+02]\n",
      "   [1.3225000e+02 1.3225000e+02 1.3225000e+02]]\n",
      "\n",
      "  ...\n",
      "\n",
      "  [[2.0300000e+02 2.0300000e+02 2.0300000e+02]\n",
      "   [2.0300000e+02 2.0300000e+02 2.0300000e+02]\n",
      "   [2.0303444e+02 2.0303444e+02 2.0303444e+02]\n",
      "   ...\n",
      "   [9.1925995e+01 9.1925995e+01 9.1925995e+01]\n",
      "   [9.0821434e+01 9.0821434e+01 9.0821434e+01]\n",
      "   [9.0821434e+01 9.0821434e+01 9.0821434e+01]]\n",
      "\n",
      "  [[2.0300000e+02 2.0300000e+02 2.0300000e+02]\n",
      "   [2.0300000e+02 2.0300000e+02 2.0300000e+02]\n",
      "   [2.0303572e+02 2.0303572e+02 2.0303572e+02]\n",
      "   ...\n",
      "   [9.2107109e+01 9.2107109e+01 9.2107109e+01]\n",
      "   [9.1000000e+01 9.1000000e+01 9.1000000e+01]\n",
      "   [9.1000000e+01 9.1000000e+01 9.1000000e+01]]\n",
      "\n",
      "  [[2.0300000e+02 2.0300000e+02 2.0300000e+02]\n",
      "   [2.0300000e+02 2.0300000e+02 2.0300000e+02]\n",
      "   [2.0303572e+02 2.0303572e+02 2.0303572e+02]\n",
      "   ...\n",
      "   [9.2107109e+01 9.2107109e+01 9.2107109e+01]\n",
      "   [9.1000000e+01 9.1000000e+01 9.1000000e+01]\n",
      "   [9.1000000e+01 9.1000000e+01 9.1000000e+01]]]\n",
      "\n",
      "\n",
      " [[[3.4000000e+01 3.4000000e+01 3.4000000e+01]\n",
      "   [3.4000000e+01 3.4000000e+01 3.4000000e+01]\n",
      "   [3.3714287e+01 3.3714287e+01 3.3714287e+01]\n",
      "   ...\n",
      "   [1.3617856e+02 1.3617856e+02 1.3617856e+02]\n",
      "   [1.3600000e+02 1.3600000e+02 1.3600000e+02]\n",
      "   [1.3600000e+02 1.3600000e+02 1.3600000e+02]]\n",
      "\n",
      "  [[3.4000000e+01 3.4000000e+01 3.4000000e+01]\n",
      "   [3.4000000e+01 3.4000000e+01 3.4000000e+01]\n",
      "   [3.3714287e+01 3.3714287e+01 3.3714287e+01]\n",
      "   ...\n",
      "   [1.3617856e+02 1.3617856e+02 1.3617856e+02]\n",
      "   [1.3600000e+02 1.3600000e+02 1.3600000e+02]\n",
      "   [1.3600000e+02 1.3600000e+02 1.3600000e+02]]\n",
      "\n",
      "  [[3.4035713e+01 3.4035713e+01 3.4035713e+01]\n",
      "   [3.4035713e+01 3.4035713e+01 3.4035713e+01]\n",
      "   [3.3757652e+01 3.3757652e+01 3.3757652e+01]\n",
      "   ...\n",
      "   [1.3620917e+02 1.3620917e+02 1.3620917e+02]\n",
      "   [1.3603572e+02 1.3603572e+02 1.3603572e+02]\n",
      "   [1.3603572e+02 1.3603572e+02 1.3603572e+02]]\n",
      "\n",
      "  ...\n",
      "\n",
      "  [[1.6532135e+02 1.6532135e+02 1.6532135e+02]\n",
      "   [1.6532135e+02 1.6532135e+02 1.6532135e+02]\n",
      "   [1.6375885e+02 1.6375885e+02 1.6375885e+02]\n",
      "   ...\n",
      "   [8.1896835e+01 8.1896835e+01 8.1896835e+01]\n",
      "   [8.3892952e+01 8.3892952e+01 8.3892952e+01]\n",
      "   [8.3892952e+01 8.3892952e+01 8.3892952e+01]]\n",
      "\n",
      "  [[1.6300000e+02 1.6300000e+02 1.6300000e+02]\n",
      "   [1.6300000e+02 1.6300000e+02 1.6300000e+02]\n",
      "   [1.6142857e+02 1.6142857e+02 1.6142857e+02]\n",
      "   ...\n",
      "   [8.4928635e+01 8.4928635e+01 8.4928635e+01]\n",
      "   [8.7000000e+01 8.7000000e+01 8.7000000e+01]\n",
      "   [8.7000000e+01 8.7000000e+01 8.7000000e+01]]\n",
      "\n",
      "  [[1.6300000e+02 1.6300000e+02 1.6300000e+02]\n",
      "   [1.6300000e+02 1.6300000e+02 1.6300000e+02]\n",
      "   [1.6142857e+02 1.6142857e+02 1.6142857e+02]\n",
      "   ...\n",
      "   [8.4928635e+01 8.4928635e+01 8.4928635e+01]\n",
      "   [8.7000000e+01 8.7000000e+01 8.7000000e+01]\n",
      "   [8.7000000e+01 8.7000000e+01 8.7000000e+01]]]\n",
      "\n",
      "\n",
      " ...\n",
      "\n",
      "\n",
      " [[[2.3000000e+01 2.3000000e+01 2.3000000e+01]\n",
      "   [2.3000000e+01 2.3000000e+01 2.3000000e+01]\n",
      "   [2.3142857e+01 2.3142857e+01 2.3142857e+01]\n",
      "   ...\n",
      "   [2.5103571e+02 2.5103571e+02 2.5103571e+02]\n",
      "   [2.5100000e+02 2.5100000e+02 2.5100000e+02]\n",
      "   [2.5100000e+02 2.5100000e+02 2.5100000e+02]]\n",
      "\n",
      "  [[2.3000000e+01 2.3000000e+01 2.3000000e+01]\n",
      "   [2.3000000e+01 2.3000000e+01 2.3000000e+01]\n",
      "   [2.3142857e+01 2.3142857e+01 2.3142857e+01]\n",
      "   ...\n",
      "   [2.5103571e+02 2.5103571e+02 2.5103571e+02]\n",
      "   [2.5100000e+02 2.5100000e+02 2.5100000e+02]\n",
      "   [2.5100000e+02 2.5100000e+02 2.5100000e+02]]\n",
      "\n",
      "  [[2.3035715e+01 2.3035715e+01 2.3035715e+01]\n",
      "   [2.3035715e+01 2.3035715e+01 2.3035715e+01]\n",
      "   [2.3177296e+01 2.3177296e+01 2.3177296e+01]\n",
      "   ...\n",
      "   [2.5103571e+02 2.5103571e+02 2.5103571e+02]\n",
      "   [2.5100000e+02 2.5100000e+02 2.5100000e+02]\n",
      "   [2.5100000e+02 2.5100000e+02 2.5100000e+02]]\n",
      "\n",
      "  ...\n",
      "\n",
      "  [[1.9975000e+02 1.9975000e+02 1.9975000e+02]\n",
      "   [1.9975000e+02 1.9975000e+02 1.9975000e+02]\n",
      "   [1.9999364e+02 1.9999364e+02 1.9999364e+02]\n",
      "   ...\n",
      "   [2.5107014e+02 2.5107014e+02 2.5107014e+02]\n",
      "   [2.5103571e+02 2.5103571e+02 2.5103571e+02]\n",
      "   [2.5103571e+02 2.5103571e+02 2.5103571e+02]]\n",
      "\n",
      "  [[2.0000000e+02 2.0000000e+02 2.0000000e+02]\n",
      "   [2.0000000e+02 2.0000000e+02 2.0000000e+02]\n",
      "   [2.0025000e+02 2.0025000e+02 2.0025000e+02]\n",
      "   ...\n",
      "   [2.5103571e+02 2.5103571e+02 2.5103571e+02]\n",
      "   [2.5100000e+02 2.5100000e+02 2.5100000e+02]\n",
      "   [2.5100000e+02 2.5100000e+02 2.5100000e+02]]\n",
      "\n",
      "  [[2.0000000e+02 2.0000000e+02 2.0000000e+02]\n",
      "   [2.0000000e+02 2.0000000e+02 2.0000000e+02]\n",
      "   [2.0025000e+02 2.0025000e+02 2.0025000e+02]\n",
      "   ...\n",
      "   [2.5103571e+02 2.5103571e+02 2.5103571e+02]\n",
      "   [2.5100000e+02 2.5100000e+02 2.5100000e+02]\n",
      "   [2.5100000e+02 2.5100000e+02 2.5100000e+02]]]\n",
      "\n",
      "\n",
      " [[[4.3000000e+01 4.3000000e+01 4.3000000e+01]\n",
      "   [4.3000000e+01 4.3000000e+01 4.3000000e+01]\n",
      "   [4.3000000e+01 4.3000000e+01 4.3000000e+01]\n",
      "   ...\n",
      "   [4.1892860e+01 4.1892860e+01 4.1892860e+01]\n",
      "   [4.2000000e+01 4.2000000e+01 4.2000000e+01]\n",
      "   [4.2000000e+01 4.2000000e+01 4.2000000e+01]]\n",
      "\n",
      "  [[4.3000000e+01 4.3000000e+01 4.3000000e+01]\n",
      "   [4.3000000e+01 4.3000000e+01 4.3000000e+01]\n",
      "   [4.3000000e+01 4.3000000e+01 4.3000000e+01]\n",
      "   ...\n",
      "   [4.1892860e+01 4.1892860e+01 4.1892860e+01]\n",
      "   [4.2000000e+01 4.2000000e+01 4.2000000e+01]\n",
      "   [4.2000000e+01 4.2000000e+01 4.2000000e+01]]\n",
      "\n",
      "  [[4.2964287e+01 4.2964287e+01 4.2964287e+01]\n",
      "   [4.2964287e+01 4.2964287e+01 4.2964287e+01]\n",
      "   [4.2964287e+01 4.2964287e+01 4.2964287e+01]\n",
      "   ...\n",
      "   [4.1792095e+01 4.1792095e+01 4.1792095e+01]\n",
      "   [4.1892857e+01 4.1892857e+01 4.1892857e+01]\n",
      "   [4.1892857e+01 4.1892857e+01 4.1892857e+01]]\n",
      "\n",
      "  ...\n",
      "\n",
      "  [[7.6964287e+01 7.6964287e+01 7.6964287e+01]\n",
      "   [7.6964287e+01 7.6964287e+01 7.6964287e+01]\n",
      "   [7.6965561e+01 7.6965561e+01 7.6965561e+01]\n",
      "   ...\n",
      "   [4.1758934e+01 4.1758934e+01 4.1758934e+01]\n",
      "   [4.1857147e+01 4.1857147e+01 4.1857147e+01]\n",
      "   [4.1857147e+01 4.1857147e+01 4.1857147e+01]]\n",
      "\n",
      "  [[7.7000000e+01 7.7000000e+01 7.7000000e+01]\n",
      "   [7.7000000e+01 7.7000000e+01 7.7000000e+01]\n",
      "   [7.7000000e+01 7.7000000e+01 7.7000000e+01]\n",
      "   ...\n",
      "   [4.1892860e+01 4.1892860e+01 4.1892860e+01]\n",
      "   [4.2000000e+01 4.2000000e+01 4.2000000e+01]\n",
      "   [4.2000000e+01 4.2000000e+01 4.2000000e+01]]\n",
      "\n",
      "  [[7.7000000e+01 7.7000000e+01 7.7000000e+01]\n",
      "   [7.7000000e+01 7.7000000e+01 7.7000000e+01]\n",
      "   [7.7000000e+01 7.7000000e+01 7.7000000e+01]\n",
      "   ...\n",
      "   [4.1892860e+01 4.1892860e+01 4.1892860e+01]\n",
      "   [4.2000000e+01 4.2000000e+01 4.2000000e+01]\n",
      "   [4.2000000e+01 4.2000000e+01 4.2000000e+01]]]\n",
      "\n",
      "\n",
      " [[[2.8000000e+01 2.8000000e+01 2.8000000e+01]\n",
      "   [2.8000000e+01 2.8000000e+01 2.8000000e+01]\n",
      "   [2.7892857e+01 2.7892857e+01 2.7892857e+01]\n",
      "   ...\n",
      "   [1.0000000e+00 1.0000000e+00 1.0000000e+00]\n",
      "   [1.0000000e+00 1.0000000e+00 1.0000000e+00]\n",
      "   [1.0000000e+00 1.0000000e+00 1.0000000e+00]]\n",
      "\n",
      "  [[2.8000000e+01 2.8000000e+01 2.8000000e+01]\n",
      "   [2.8000000e+01 2.8000000e+01 2.8000000e+01]\n",
      "   [2.7892857e+01 2.7892857e+01 2.7892857e+01]\n",
      "   ...\n",
      "   [1.0000000e+00 1.0000000e+00 1.0000000e+00]\n",
      "   [1.0000000e+00 1.0000000e+00 1.0000000e+00]\n",
      "   [1.0000000e+00 1.0000000e+00 1.0000000e+00]]\n",
      "\n",
      "  [[2.8142857e+01 2.8142857e+01 2.8142857e+01]\n",
      "   [2.8142857e+01 2.8142857e+01 2.8142857e+01]\n",
      "   [2.8019133e+01 2.8019133e+01 2.8019133e+01]\n",
      "   ...\n",
      "   [1.2423470e+00 1.2423470e+00 1.2423470e+00]\n",
      "   [1.2499999e+00 1.2499999e+00 1.2499999e+00]\n",
      "   [1.2499999e+00 1.2499999e+00 1.2499999e+00]]\n",
      "\n",
      "  ...\n",
      "\n",
      "  [[1.6964287e+01 1.6964287e+01 1.6964287e+01]\n",
      "   [1.6964287e+01 1.6964287e+01 1.6964287e+01]\n",
      "   [1.6897961e+01 1.6897961e+01 1.6897961e+01]\n",
      "   ...\n",
      "   [2.4596558e+02 2.4596558e+02 2.4596558e+02]\n",
      "   [2.4600000e+02 2.4600000e+02 2.4600000e+02]\n",
      "   [2.4600000e+02 2.4600000e+02 2.4600000e+02]]\n",
      "\n",
      "  [[1.7000000e+01 1.7000000e+01 1.7000000e+01]\n",
      "   [1.7000000e+01 1.7000000e+01 1.7000000e+01]\n",
      "   [1.6928572e+01 1.6928572e+01 1.6928572e+01]\n",
      "   ...\n",
      "   [2.4596429e+02 2.4596429e+02 2.4596429e+02]\n",
      "   [2.4600000e+02 2.4600000e+02 2.4600000e+02]\n",
      "   [2.4600000e+02 2.4600000e+02 2.4600000e+02]]\n",
      "\n",
      "  [[1.7000000e+01 1.7000000e+01 1.7000000e+01]\n",
      "   [1.7000000e+01 1.7000000e+01 1.7000000e+01]\n",
      "   [1.6928572e+01 1.6928572e+01 1.6928572e+01]\n",
      "   ...\n",
      "   [2.4596429e+02 2.4596429e+02 2.4596429e+02]\n",
      "   [2.4600000e+02 2.4600000e+02 2.4600000e+02]\n",
      "   [2.4600000e+02 2.4600000e+02 2.4600000e+02]]]], shape=(64, 224, 224, 3), dtype=float32)\n",
      "tf.Tensor(\n",
      "[5 5 0 3 4 5 5 3 3 2 4 6 4 3 4 5 4 3 3 5 3 4 4 2 3 0 5 3 6 5 3 2 5 5 0 5 0\n",
      " 4 0 4 5 6 5 5 3 0 4 2 0 0 0 2 0 6 0 0 1 4 2 5 0 3 4 3], shape=(64,), dtype=int32)\n"
     ]
    }
   ],
   "source": [
    "for image_batch,label_batch in test_data.take(1):\n",
    "  print(image_batch)\n",
    "  print(label_batch)"
   ]
  },
  {
   "cell_type": "code",
   "execution_count": 14,
   "metadata": {
    "colab": {
     "base_uri": "https://localhost:8080/"
    },
    "executionInfo": {
     "elapsed": 578,
     "status": "ok",
     "timestamp": 1719286332366,
     "user": {
      "displayName": "isuru madhushan",
      "userId": "05680374680553661511"
     },
     "user_tz": -330
    },
    "id": "D_Eq6z7JWh-T",
    "outputId": "367d53ee-2f8c-44a6-9846-166b0e25c9fa"
   },
   "outputs": [
    {
     "name": "stdout",
     "output_type": "stream",
     "text": [
      "(64, 224, 224, 3)\n",
      "(64,)\n"
     ]
    }
   ],
   "source": [
    "for image_batch,label_batch in train_data.take(1):\n",
    "  print(image_batch.shape)  # batch details\n",
    "  print(label_batch.shape)  # no of labels in a batch"
   ]
  },
  {
   "cell_type": "markdown",
   "metadata": {
    "id": "6G8cOCXtWh-T"
   },
   "source": [
    "Normalizing data"
   ]
  },
  {
   "cell_type": "code",
   "execution_count": 11,
   "metadata": {
    "executionInfo": {
     "elapsed": 15,
     "status": "ok",
     "timestamp": 1719286334152,
     "user": {
      "displayName": "isuru madhushan",
      "userId": "05680374680553661511"
     },
     "user_tz": -330
    },
    "id": "D0yXdArkWh-T"
   },
   "outputs": [],
   "source": [
    "train_data = train_data.map(lambda x,y:(x/255,y))\n",
    "test_data = test_data.map(lambda x,y:(x/255,y))\n",
    "validation_data = validation_data.map(lambda x,y:(x/255,y))"
   ]
  },
  {
   "cell_type": "code",
   "execution_count": 16,
   "metadata": {
    "colab": {
     "base_uri": "https://localhost:8080/"
    },
    "executionInfo": {
     "elapsed": 851,
     "status": "ok",
     "timestamp": 1719286334991,
     "user": {
      "displayName": "isuru madhushan",
      "userId": "05680374680553661511"
     },
     "user_tz": -330
    },
    "id": "QcvLRacdWh-U",
    "outputId": "13d9e4ae-a918-4c0c-97f6-a43a6f66e787"
   },
   "outputs": [
    {
     "name": "stdout",
     "output_type": "stream",
     "text": [
      "tf.Tensor(\n",
      "[[[[0.8235294  0.8235294  0.8235294 ]\n",
      "   [0.8235294  0.8235294  0.8235294 ]\n",
      "   [0.8127451  0.8127451  0.8127451 ]\n",
      "   ...\n",
      "   [0.6        0.6        0.6       ]\n",
      "   [0.6        0.6        0.6       ]\n",
      "   [0.6        0.6        0.6       ]]\n",
      "\n",
      "  [[0.8235294  0.8235294  0.8235294 ]\n",
      "   [0.8235294  0.8235294  0.8235294 ]\n",
      "   [0.8127451  0.8127451  0.8127451 ]\n",
      "   ...\n",
      "   [0.6        0.6        0.6       ]\n",
      "   [0.6        0.6        0.6       ]\n",
      "   [0.6        0.6        0.6       ]]\n",
      "\n",
      "  [[0.8215686  0.8215686  0.8215686 ]\n",
      "   [0.8215686  0.8215686  0.8215686 ]\n",
      "   [0.81079936 0.81079936 0.81079936]\n",
      "   ...\n",
      "   [0.59988    0.59988    0.59988   ]\n",
      "   [0.5998599  0.5998599  0.5998599 ]\n",
      "   [0.5998599  0.5998599  0.5998599 ]]\n",
      "\n",
      "  ...\n",
      "\n",
      "  [[0.8861345  0.8861345  0.8861345 ]\n",
      "   [0.8861345  0.8861345  0.8861345 ]\n",
      "   [0.88614446 0.88614446 0.88614446]\n",
      "   ...\n",
      "   [0.8163515  0.8163515  0.8163515 ]\n",
      "   [0.8162465  0.8162465  0.8162465 ]\n",
      "   [0.8162465  0.8162465  0.8162465 ]]\n",
      "\n",
      "  [[0.8862745  0.8862745  0.8862745 ]\n",
      "   [0.8862745  0.8862745  0.8862745 ]\n",
      "   [0.8862745  0.8862745  0.8862745 ]\n",
      "   ...\n",
      "   [0.8158263  0.8158263  0.8158263 ]\n",
      "   [0.8156863  0.8156863  0.8156863 ]\n",
      "   [0.8156863  0.8156863  0.8156863 ]]\n",
      "\n",
      "  [[0.8862745  0.8862745  0.8862745 ]\n",
      "   [0.8862745  0.8862745  0.8862745 ]\n",
      "   [0.8862745  0.8862745  0.8862745 ]\n",
      "   ...\n",
      "   [0.8158263  0.8158263  0.8158263 ]\n",
      "   [0.8156863  0.8156863  0.8156863 ]\n",
      "   [0.8156863  0.8156863  0.8156863 ]]]\n",
      "\n",
      "\n",
      " [[[0.972549   0.972549   0.972549  ]\n",
      "   [0.972549   0.972549   0.972549  ]\n",
      "   [0.9726891  0.9726891  0.9726891 ]\n",
      "   ...\n",
      "   [0.96862745 0.96862745 0.96862745]\n",
      "   [0.96862745 0.96862745 0.96862745]\n",
      "   [0.96862745 0.96862745 0.96862745]]\n",
      "\n",
      "  [[0.972549   0.972549   0.972549  ]\n",
      "   [0.972549   0.972549   0.972549  ]\n",
      "   [0.9726891  0.9726891  0.9726891 ]\n",
      "   ...\n",
      "   [0.96862745 0.96862745 0.96862745]\n",
      "   [0.96862745 0.96862745 0.96862745]\n",
      "   [0.96862745 0.96862745 0.96862745]]\n",
      "\n",
      "  [[0.9721288  0.9721288  0.9721288 ]\n",
      "   [0.9721288  0.9721288  0.9721288 ]\n",
      "   [0.97228897 0.97228897 0.97228897]\n",
      "   ...\n",
      "   [0.96862745 0.96862745 0.96862745]\n",
      "   [0.96862745 0.96862745 0.96862745]\n",
      "   [0.96862745 0.96862745 0.96862745]]\n",
      "\n",
      "  ...\n",
      "\n",
      "  [[0.86246514 0.86246514 0.86246514]\n",
      "   [0.86246514 0.86246514 0.86246514]\n",
      "   [0.85183585 0.85183585 0.85183585]\n",
      "   ...\n",
      "   [0.6434073  0.6434073  0.6434073 ]\n",
      "   [0.6438375  0.6438375  0.6438375 ]\n",
      "   [0.6438375  0.6438375  0.6438375 ]]\n",
      "\n",
      "  [[0.8666667  0.8666667  0.8666667 ]\n",
      "   [0.8666667  0.8666667  0.8666667 ]\n",
      "   [0.8554622  0.8554622  0.8554622 ]\n",
      "   ...\n",
      "   [0.64271706 0.64271706 0.64271706]\n",
      "   [0.6431373  0.6431373  0.6431373 ]\n",
      "   [0.6431373  0.6431373  0.6431373 ]]\n",
      "\n",
      "  [[0.8666667  0.8666667  0.8666667 ]\n",
      "   [0.8666667  0.8666667  0.8666667 ]\n",
      "   [0.8554622  0.8554622  0.8554622 ]\n",
      "   ...\n",
      "   [0.64271706 0.64271706 0.64271706]\n",
      "   [0.6431373  0.6431373  0.6431373 ]\n",
      "   [0.6431373  0.6431373  0.6431373 ]]]\n",
      "\n",
      "\n",
      " [[[0.8        0.8        0.8       ]\n",
      "   [0.8        0.8        0.8       ]\n",
      "   [0.8012605  0.8012605  0.8012605 ]\n",
      "   ...\n",
      "   [0.5219887  0.5219887  0.5219887 ]\n",
      "   [0.5176471  0.5176471  0.5176471 ]\n",
      "   [0.5176471  0.5176471  0.5176471 ]]\n",
      "\n",
      "  [[0.8        0.8        0.8       ]\n",
      "   [0.8        0.8        0.8       ]\n",
      "   [0.8012605  0.8012605  0.8012605 ]\n",
      "   ...\n",
      "   [0.5219887  0.5219887  0.5219887 ]\n",
      "   [0.5176471  0.5176471  0.5176471 ]\n",
      "   [0.5176471  0.5176471  0.5176471 ]]\n",
      "\n",
      "  [[0.7994398  0.7994398  0.7994398 ]\n",
      "   [0.7994398  0.7994398  0.7994398 ]\n",
      "   [0.8006753  0.8006753  0.8006753 ]\n",
      "   ...\n",
      "   [0.5248849  0.5248849  0.5248849 ]\n",
      "   [0.5205882  0.5205882  0.5205882 ]\n",
      "   [0.5205882  0.5205882  0.5205882 ]]\n",
      "\n",
      "  ...\n",
      "\n",
      "  [[0.11722691 0.11722691 0.11722691]\n",
      "   [0.11722691 0.11722691 0.11722691]\n",
      "   [0.12032314 0.12032314 0.12032314]\n",
      "   ...\n",
      "   [0.78560925 0.78560925 0.78560925]\n",
      "   [0.78585434 0.78585434 0.78585434]\n",
      "   [0.78585434 0.78585434 0.78585434]]\n",
      "\n",
      "  [[0.11764706 0.11764706 0.11764706]\n",
      "   [0.11764706 0.11764706 0.11764706]\n",
      "   [0.12072828 0.12072828 0.12072828]\n",
      "   ...\n",
      "   [0.7840336  0.7840336  0.7840336 ]\n",
      "   [0.78431374 0.78431374 0.78431374]\n",
      "   [0.78431374 0.78431374 0.78431374]]\n",
      "\n",
      "  [[0.11764706 0.11764706 0.11764706]\n",
      "   [0.11764706 0.11764706 0.11764706]\n",
      "   [0.12072828 0.12072828 0.12072828]\n",
      "   ...\n",
      "   [0.7840336  0.7840336  0.7840336 ]\n",
      "   [0.78431374 0.78431374 0.78431374]\n",
      "   [0.78431374 0.78431374 0.78431374]]]\n",
      "\n",
      "\n",
      " ...\n",
      "\n",
      "\n",
      " [[[0.59607846 0.59607846 0.59607846]\n",
      "   [0.59607846 0.59607846 0.59607846]\n",
      "   [0.59313726 0.59313726 0.59313726]\n",
      "   ...\n",
      "   [0.54705876 0.54705876 0.54705876]\n",
      "   [0.54509807 0.54509807 0.54509807]\n",
      "   [0.54509807 0.54509807 0.54509807]]\n",
      "\n",
      "  [[0.59607846 0.59607846 0.59607846]\n",
      "   [0.59607846 0.59607846 0.59607846]\n",
      "   [0.59313726 0.59313726 0.59313726]\n",
      "   ...\n",
      "   [0.54705876 0.54705876 0.54705876]\n",
      "   [0.54509807 0.54509807 0.54509807]\n",
      "   [0.54509807 0.54509807 0.54509807]]\n",
      "\n",
      "  [[0.59411764 0.59411764 0.59411764]\n",
      "   [0.59411764 0.59411764 0.59411764]\n",
      "   [0.5912365  0.5912365  0.5912365 ]\n",
      "   ...\n",
      "   [0.54731387 0.54731387 0.54731387]\n",
      "   [0.54537815 0.54537815 0.54537815]\n",
      "   [0.54537815 0.54537815 0.54537815]]\n",
      "\n",
      "  ...\n",
      "\n",
      "  [[0.4183474  0.4183474  0.4183474 ]\n",
      "   [0.4183474  0.4183474  0.4183474 ]\n",
      "   [0.4134604  0.4134604  0.4134604 ]\n",
      "   ...\n",
      "   [0.66894263 0.66894263 0.66894263]\n",
      "   [0.6694678  0.6694678  0.6694678 ]\n",
      "   [0.6694678  0.6694678  0.6694678 ]]\n",
      "\n",
      "  [[0.41960785 0.41960785 0.41960785]\n",
      "   [0.41960785 0.41960785 0.41960785]\n",
      "   [0.41470587 0.41470587 0.41470587]\n",
      "   ...\n",
      "   [0.67002803 0.67002803 0.67002803]\n",
      "   [0.67058825 0.67058825 0.67058825]\n",
      "   [0.67058825 0.67058825 0.67058825]]\n",
      "\n",
      "  [[0.41960785 0.41960785 0.41960785]\n",
      "   [0.41960785 0.41960785 0.41960785]\n",
      "   [0.41470587 0.41470587 0.41470587]\n",
      "   ...\n",
      "   [0.67002803 0.67002803 0.67002803]\n",
      "   [0.67058825 0.67058825 0.67058825]\n",
      "   [0.67058825 0.67058825 0.67058825]]]\n",
      "\n",
      "\n",
      " [[[0.17254902 0.17254902 0.17254902]\n",
      "   [0.17254902 0.17254902 0.17254902]\n",
      "   [0.17408964 0.17408964 0.17408964]\n",
      "   ...\n",
      "   [0.15686275 0.15686275 0.15686275]\n",
      "   [0.15686275 0.15686275 0.15686275]\n",
      "   [0.15686275 0.15686275 0.15686275]]\n",
      "\n",
      "  [[0.17254902 0.17254902 0.17254902]\n",
      "   [0.17254902 0.17254902 0.17254902]\n",
      "   [0.17408964 0.17408964 0.17408964]\n",
      "   ...\n",
      "   [0.15686275 0.15686275 0.15686275]\n",
      "   [0.15686275 0.15686275 0.15686275]\n",
      "   [0.15686275 0.15686275 0.15686275]]\n",
      "\n",
      "  [[0.1722689  0.1722689  0.1722689 ]\n",
      "   [0.1722689  0.1722689  0.1722689 ]\n",
      "   [0.17379451 0.17379451 0.17379451]\n",
      "   ...\n",
      "   [0.15672769 0.15672769 0.15672769]\n",
      "   [0.1567227  0.1567227  0.1567227 ]\n",
      "   [0.1567227  0.1567227  0.1567227 ]]\n",
      "\n",
      "  ...\n",
      "\n",
      "  [[0.16022411 0.16022411 0.16022411]\n",
      "   [0.16022411 0.16022411 0.16022411]\n",
      "   [0.16090438 0.16090438 0.16090438]\n",
      "   ...\n",
      "   [0.1687475  0.1687475  0.1687475 ]\n",
      "   [0.16834734 0.16834734 0.16834734]\n",
      "   [0.16834734 0.16834734 0.16834734]]\n",
      "\n",
      "  [[0.16078432 0.16078432 0.16078432]\n",
      "   [0.16078432 0.16078432 0.16078432]\n",
      "   [0.16148458 0.16148458 0.16148458]\n",
      "   ...\n",
      "   [0.16904761 0.16904761 0.16904761]\n",
      "   [0.16862746 0.16862746 0.16862746]\n",
      "   [0.16862746 0.16862746 0.16862746]]\n",
      "\n",
      "  [[0.16078432 0.16078432 0.16078432]\n",
      "   [0.16078432 0.16078432 0.16078432]\n",
      "   [0.16148458 0.16148458 0.16148458]\n",
      "   ...\n",
      "   [0.16904761 0.16904761 0.16904761]\n",
      "   [0.16862746 0.16862746 0.16862746]\n",
      "   [0.16862746 0.16862746 0.16862746]]]\n",
      "\n",
      "\n",
      " [[[0.33333334 0.33333334 0.33333334]\n",
      "   [0.33333334 0.33333334 0.33333334]\n",
      "   [0.33305323 0.33305323 0.33305323]\n",
      "   ...\n",
      "   [0.70238096 0.70238096 0.70238096]\n",
      "   [0.7019608  0.7019608  0.7019608 ]\n",
      "   [0.7019608  0.7019608  0.7019608 ]]\n",
      "\n",
      "  [[0.33333334 0.33333334 0.33333334]\n",
      "   [0.33333334 0.33333334 0.33333334]\n",
      "   [0.33305323 0.33305323 0.33305323]\n",
      "   ...\n",
      "   [0.70238096 0.70238096 0.70238096]\n",
      "   [0.7019608  0.7019608  0.7019608 ]\n",
      "   [0.7019608  0.7019608  0.7019608 ]]\n",
      "\n",
      "  [[0.3322129  0.3322129  0.3322129 ]\n",
      "   [0.3322129  0.3322129  0.3322129 ]\n",
      "   [0.33207282 0.33207282 0.33207282]\n",
      "   ...\n",
      "   [0.7027561  0.7027561  0.7027561 ]\n",
      "   [0.70238096 0.70238096 0.70238096]\n",
      "   [0.70238096 0.70238096 0.70238096]]\n",
      "\n",
      "  ...\n",
      "\n",
      "  [[0.74523807 0.74523807 0.74523807]\n",
      "   [0.74523807 0.74523807 0.74523807]\n",
      "   [0.74507797 0.74507797 0.74507797]\n",
      "   ...\n",
      "   [0.07111831 0.07111831 0.07111831]\n",
      "   [0.06708682 0.06708682 0.06708682]\n",
      "   [0.06708682 0.06708682 0.06708682]]\n",
      "\n",
      "  [[0.74509805 0.74509805 0.74509805]\n",
      "   [0.74509805 0.74509805 0.74509805]\n",
      "   [0.744958   0.744958   0.744958  ]\n",
      "   ...\n",
      "   [0.07072817 0.07072817 0.07072817]\n",
      "   [0.06666667 0.06666667 0.06666667]\n",
      "   [0.06666667 0.06666667 0.06666667]]\n",
      "\n",
      "  [[0.74509805 0.74509805 0.74509805]\n",
      "   [0.74509805 0.74509805 0.74509805]\n",
      "   [0.744958   0.744958   0.744958  ]\n",
      "   ...\n",
      "   [0.07072817 0.07072817 0.07072817]\n",
      "   [0.06666667 0.06666667 0.06666667]\n",
      "   [0.06666667 0.06666667 0.06666667]]]], shape=(64, 224, 224, 3), dtype=float32)\n"
     ]
    }
   ],
   "source": [
    "for image_batch,label_batch in train_data.take(1):\n",
    "  print(image_batch)\n"
   ]
  },
  {
   "cell_type": "markdown",
   "metadata": {
    "id": "R5kmNdKcY9sH"
   },
   "source": [
    "### Transfer Learning"
   ]
  },
  {
   "cell_type": "code",
   "execution_count": 17,
   "metadata": {
    "executionInfo": {
     "elapsed": 10,
     "status": "ok",
     "timestamp": 1719286335874,
     "user": {
      "displayName": "isuru madhushan",
      "userId": "05680374680553661511"
     },
     "user_tz": -330
    },
    "id": "WQvfdmKUWh-U"
   },
   "outputs": [],
   "source": [
    "import tensorflow as tf\n",
    "from tensorflow import keras\n",
    "from tensorflow.keras import layers"
   ]
  },
  {
   "cell_type": "code",
   "execution_count": 18,
   "metadata": {
    "colab": {
     "base_uri": "https://localhost:8080/"
    },
    "executionInfo": {
     "elapsed": 2616,
     "status": "ok",
     "timestamp": 1719286339443,
     "user": {
      "displayName": "isuru madhushan",
      "userId": "05680374680553661511"
     },
     "user_tz": -330
    },
    "id": "hnHKxP4CWh-V",
    "outputId": "40a4c390-c0b6-4e89-f0f4-aa0ae165dd8e"
   },
   "outputs": [
    {
     "name": "stdout",
     "output_type": "stream",
     "text": [
      "WARNING:tensorflow:From c:\\Users\\Admin\\anaconda3\\lib\\site-packages\\keras\\src\\backend.py:1398: The name tf.executing_eagerly_outside_functions is deprecated. Please use tf.compat.v1.executing_eagerly_outside_functions instead.\n",
      "\n",
      "WARNING:tensorflow:From c:\\Users\\Admin\\anaconda3\\lib\\site-packages\\keras\\src\\layers\\normalization\\batch_normalization.py:979: The name tf.nn.fused_batch_norm is deprecated. Please use tf.compat.v1.nn.fused_batch_norm instead.\n",
      "\n"
     ]
    }
   ],
   "source": [
    "model = tf.keras.applications.MobileNetV2()   # Pre- trained model"
   ]
  },
  {
   "cell_type": "code",
   "execution_count": 19,
   "metadata": {
    "colab": {
     "base_uri": "https://localhost:8080/"
    },
    "executionInfo": {
     "elapsed": 3107,
     "status": "ok",
     "timestamp": 1719286342456,
     "user": {
      "displayName": "isuru madhushan",
      "userId": "05680374680553661511"
     },
     "user_tz": -330
    },
    "id": "Cr2DBLivWh-V",
    "outputId": "f3b45fe4-3301-4c51-8278-d84d58e6d448"
   },
   "outputs": [
    {
     "name": "stdout",
     "output_type": "stream",
     "text": [
      "Model: \"mobilenetv2_1.00_224\"\n",
      "__________________________________________________________________________________________________\n",
      " Layer (type)                Output Shape                 Param #   Connected to                  \n",
      "==================================================================================================\n",
      " input_1 (InputLayer)        [(None, 224, 224, 3)]        0         []                            \n",
      "                                                                                                  \n",
      " Conv1 (Conv2D)              (None, 112, 112, 32)         864       ['input_1[0][0]']             \n",
      "                                                                                                  \n",
      " bn_Conv1 (BatchNormalizati  (None, 112, 112, 32)         128       ['Conv1[0][0]']               \n",
      " on)                                                                                              \n",
      "                                                                                                  \n",
      " Conv1_relu (ReLU)           (None, 112, 112, 32)         0         ['bn_Conv1[0][0]']            \n",
      "                                                                                                  \n",
      " expanded_conv_depthwise (D  (None, 112, 112, 32)         288       ['Conv1_relu[0][0]']          \n",
      " epthwiseConv2D)                                                                                  \n",
      "                                                                                                  \n",
      " expanded_conv_depthwise_BN  (None, 112, 112, 32)         128       ['expanded_conv_depthwise[0][0\n",
      "  (BatchNormalization)                                              ]']                           \n",
      "                                                                                                  \n",
      " expanded_conv_depthwise_re  (None, 112, 112, 32)         0         ['expanded_conv_depthwise_BN[0\n",
      " lu (ReLU)                                                          ][0]']                        \n",
      "                                                                                                  \n",
      " expanded_conv_project (Con  (None, 112, 112, 16)         512       ['expanded_conv_depthwise_relu\n",
      " v2D)                                                               [0][0]']                      \n",
      "                                                                                                  \n",
      " expanded_conv_project_BN (  (None, 112, 112, 16)         64        ['expanded_conv_project[0][0]'\n",
      " BatchNormalization)                                                ]                             \n",
      "                                                                                                  \n",
      " block_1_expand (Conv2D)     (None, 112, 112, 96)         1536      ['expanded_conv_project_BN[0][\n",
      "                                                                    0]']                          \n",
      "                                                                                                  \n",
      " block_1_expand_BN (BatchNo  (None, 112, 112, 96)         384       ['block_1_expand[0][0]']      \n",
      " rmalization)                                                                                     \n",
      "                                                                                                  \n",
      " block_1_expand_relu (ReLU)  (None, 112, 112, 96)         0         ['block_1_expand_BN[0][0]']   \n",
      "                                                                                                  \n",
      " block_1_pad (ZeroPadding2D  (None, 113, 113, 96)         0         ['block_1_expand_relu[0][0]'] \n",
      " )                                                                                                \n",
      "                                                                                                  \n",
      " block_1_depthwise (Depthwi  (None, 56, 56, 96)           864       ['block_1_pad[0][0]']         \n",
      " seConv2D)                                                                                        \n",
      "                                                                                                  \n",
      " block_1_depthwise_BN (Batc  (None, 56, 56, 96)           384       ['block_1_depthwise[0][0]']   \n",
      " hNormalization)                                                                                  \n",
      "                                                                                                  \n",
      " block_1_depthwise_relu (Re  (None, 56, 56, 96)           0         ['block_1_depthwise_BN[0][0]']\n",
      " LU)                                                                                              \n",
      "                                                                                                  \n",
      " block_1_project (Conv2D)    (None, 56, 56, 24)           2304      ['block_1_depthwise_relu[0][0]\n",
      "                                                                    ']                            \n",
      "                                                                                                  \n",
      " block_1_project_BN (BatchN  (None, 56, 56, 24)           96        ['block_1_project[0][0]']     \n",
      " ormalization)                                                                                    \n",
      "                                                                                                  \n",
      " block_2_expand (Conv2D)     (None, 56, 56, 144)          3456      ['block_1_project_BN[0][0]']  \n",
      "                                                                                                  \n",
      " block_2_expand_BN (BatchNo  (None, 56, 56, 144)          576       ['block_2_expand[0][0]']      \n",
      " rmalization)                                                                                     \n",
      "                                                                                                  \n",
      " block_2_expand_relu (ReLU)  (None, 56, 56, 144)          0         ['block_2_expand_BN[0][0]']   \n",
      "                                                                                                  \n",
      " block_2_depthwise (Depthwi  (None, 56, 56, 144)          1296      ['block_2_expand_relu[0][0]'] \n",
      " seConv2D)                                                                                        \n",
      "                                                                                                  \n",
      " block_2_depthwise_BN (Batc  (None, 56, 56, 144)          576       ['block_2_depthwise[0][0]']   \n",
      " hNormalization)                                                                                  \n",
      "                                                                                                  \n",
      " block_2_depthwise_relu (Re  (None, 56, 56, 144)          0         ['block_2_depthwise_BN[0][0]']\n",
      " LU)                                                                                              \n",
      "                                                                                                  \n",
      " block_2_project (Conv2D)    (None, 56, 56, 24)           3456      ['block_2_depthwise_relu[0][0]\n",
      "                                                                    ']                            \n",
      "                                                                                                  \n",
      " block_2_project_BN (BatchN  (None, 56, 56, 24)           96        ['block_2_project[0][0]']     \n",
      " ormalization)                                                                                    \n",
      "                                                                                                  \n",
      " block_2_add (Add)           (None, 56, 56, 24)           0         ['block_1_project_BN[0][0]',  \n",
      "                                                                     'block_2_project_BN[0][0]']  \n",
      "                                                                                                  \n",
      " block_3_expand (Conv2D)     (None, 56, 56, 144)          3456      ['block_2_add[0][0]']         \n",
      "                                                                                                  \n",
      " block_3_expand_BN (BatchNo  (None, 56, 56, 144)          576       ['block_3_expand[0][0]']      \n",
      " rmalization)                                                                                     \n",
      "                                                                                                  \n",
      " block_3_expand_relu (ReLU)  (None, 56, 56, 144)          0         ['block_3_expand_BN[0][0]']   \n",
      "                                                                                                  \n",
      " block_3_pad (ZeroPadding2D  (None, 57, 57, 144)          0         ['block_3_expand_relu[0][0]'] \n",
      " )                                                                                                \n",
      "                                                                                                  \n",
      " block_3_depthwise (Depthwi  (None, 28, 28, 144)          1296      ['block_3_pad[0][0]']         \n",
      " seConv2D)                                                                                        \n",
      "                                                                                                  \n",
      " block_3_depthwise_BN (Batc  (None, 28, 28, 144)          576       ['block_3_depthwise[0][0]']   \n",
      " hNormalization)                                                                                  \n",
      "                                                                                                  \n",
      " block_3_depthwise_relu (Re  (None, 28, 28, 144)          0         ['block_3_depthwise_BN[0][0]']\n",
      " LU)                                                                                              \n",
      "                                                                                                  \n",
      " block_3_project (Conv2D)    (None, 28, 28, 32)           4608      ['block_3_depthwise_relu[0][0]\n",
      "                                                                    ']                            \n",
      "                                                                                                  \n",
      " block_3_project_BN (BatchN  (None, 28, 28, 32)           128       ['block_3_project[0][0]']     \n",
      " ormalization)                                                                                    \n",
      "                                                                                                  \n",
      " block_4_expand (Conv2D)     (None, 28, 28, 192)          6144      ['block_3_project_BN[0][0]']  \n",
      "                                                                                                  \n",
      " block_4_expand_BN (BatchNo  (None, 28, 28, 192)          768       ['block_4_expand[0][0]']      \n",
      " rmalization)                                                                                     \n",
      "                                                                                                  \n",
      " block_4_expand_relu (ReLU)  (None, 28, 28, 192)          0         ['block_4_expand_BN[0][0]']   \n",
      "                                                                                                  \n",
      " block_4_depthwise (Depthwi  (None, 28, 28, 192)          1728      ['block_4_expand_relu[0][0]'] \n",
      " seConv2D)                                                                                        \n",
      "                                                                                                  \n",
      " block_4_depthwise_BN (Batc  (None, 28, 28, 192)          768       ['block_4_depthwise[0][0]']   \n",
      " hNormalization)                                                                                  \n",
      "                                                                                                  \n",
      " block_4_depthwise_relu (Re  (None, 28, 28, 192)          0         ['block_4_depthwise_BN[0][0]']\n",
      " LU)                                                                                              \n",
      "                                                                                                  \n",
      " block_4_project (Conv2D)    (None, 28, 28, 32)           6144      ['block_4_depthwise_relu[0][0]\n",
      "                                                                    ']                            \n",
      "                                                                                                  \n",
      " block_4_project_BN (BatchN  (None, 28, 28, 32)           128       ['block_4_project[0][0]']     \n",
      " ormalization)                                                                                    \n",
      "                                                                                                  \n",
      " block_4_add (Add)           (None, 28, 28, 32)           0         ['block_3_project_BN[0][0]',  \n",
      "                                                                     'block_4_project_BN[0][0]']  \n",
      "                                                                                                  \n",
      " block_5_expand (Conv2D)     (None, 28, 28, 192)          6144      ['block_4_add[0][0]']         \n",
      "                                                                                                  \n",
      " block_5_expand_BN (BatchNo  (None, 28, 28, 192)          768       ['block_5_expand[0][0]']      \n",
      " rmalization)                                                                                     \n",
      "                                                                                                  \n",
      " block_5_expand_relu (ReLU)  (None, 28, 28, 192)          0         ['block_5_expand_BN[0][0]']   \n",
      "                                                                                                  \n",
      " block_5_depthwise (Depthwi  (None, 28, 28, 192)          1728      ['block_5_expand_relu[0][0]'] \n",
      " seConv2D)                                                                                        \n",
      "                                                                                                  \n",
      " block_5_depthwise_BN (Batc  (None, 28, 28, 192)          768       ['block_5_depthwise[0][0]']   \n",
      " hNormalization)                                                                                  \n",
      "                                                                                                  \n",
      " block_5_depthwise_relu (Re  (None, 28, 28, 192)          0         ['block_5_depthwise_BN[0][0]']\n",
      " LU)                                                                                              \n",
      "                                                                                                  \n",
      " block_5_project (Conv2D)    (None, 28, 28, 32)           6144      ['block_5_depthwise_relu[0][0]\n",
      "                                                                    ']                            \n",
      "                                                                                                  \n",
      " block_5_project_BN (BatchN  (None, 28, 28, 32)           128       ['block_5_project[0][0]']     \n",
      " ormalization)                                                                                    \n",
      "                                                                                                  \n",
      " block_5_add (Add)           (None, 28, 28, 32)           0         ['block_4_add[0][0]',         \n",
      "                                                                     'block_5_project_BN[0][0]']  \n",
      "                                                                                                  \n",
      " block_6_expand (Conv2D)     (None, 28, 28, 192)          6144      ['block_5_add[0][0]']         \n",
      "                                                                                                  \n",
      " block_6_expand_BN (BatchNo  (None, 28, 28, 192)          768       ['block_6_expand[0][0]']      \n",
      " rmalization)                                                                                     \n",
      "                                                                                                  \n",
      " block_6_expand_relu (ReLU)  (None, 28, 28, 192)          0         ['block_6_expand_BN[0][0]']   \n",
      "                                                                                                  \n",
      " block_6_pad (ZeroPadding2D  (None, 29, 29, 192)          0         ['block_6_expand_relu[0][0]'] \n",
      " )                                                                                                \n",
      "                                                                                                  \n",
      " block_6_depthwise (Depthwi  (None, 14, 14, 192)          1728      ['block_6_pad[0][0]']         \n",
      " seConv2D)                                                                                        \n",
      "                                                                                                  \n",
      " block_6_depthwise_BN (Batc  (None, 14, 14, 192)          768       ['block_6_depthwise[0][0]']   \n",
      " hNormalization)                                                                                  \n",
      "                                                                                                  \n",
      " block_6_depthwise_relu (Re  (None, 14, 14, 192)          0         ['block_6_depthwise_BN[0][0]']\n",
      " LU)                                                                                              \n",
      "                                                                                                  \n",
      " block_6_project (Conv2D)    (None, 14, 14, 64)           12288     ['block_6_depthwise_relu[0][0]\n",
      "                                                                    ']                            \n",
      "                                                                                                  \n",
      " block_6_project_BN (BatchN  (None, 14, 14, 64)           256       ['block_6_project[0][0]']     \n",
      " ormalization)                                                                                    \n",
      "                                                                                                  \n",
      " block_7_expand (Conv2D)     (None, 14, 14, 384)          24576     ['block_6_project_BN[0][0]']  \n",
      "                                                                                                  \n",
      " block_7_expand_BN (BatchNo  (None, 14, 14, 384)          1536      ['block_7_expand[0][0]']      \n",
      " rmalization)                                                                                     \n",
      "                                                                                                  \n",
      " block_7_expand_relu (ReLU)  (None, 14, 14, 384)          0         ['block_7_expand_BN[0][0]']   \n",
      "                                                                                                  \n",
      " block_7_depthwise (Depthwi  (None, 14, 14, 384)          3456      ['block_7_expand_relu[0][0]'] \n",
      " seConv2D)                                                                                        \n",
      "                                                                                                  \n",
      " block_7_depthwise_BN (Batc  (None, 14, 14, 384)          1536      ['block_7_depthwise[0][0]']   \n",
      " hNormalization)                                                                                  \n",
      "                                                                                                  \n",
      " block_7_depthwise_relu (Re  (None, 14, 14, 384)          0         ['block_7_depthwise_BN[0][0]']\n",
      " LU)                                                                                              \n",
      "                                                                                                  \n",
      " block_7_project (Conv2D)    (None, 14, 14, 64)           24576     ['block_7_depthwise_relu[0][0]\n",
      "                                                                    ']                            \n",
      "                                                                                                  \n",
      " block_7_project_BN (BatchN  (None, 14, 14, 64)           256       ['block_7_project[0][0]']     \n",
      " ormalization)                                                                                    \n",
      "                                                                                                  \n",
      " block_7_add (Add)           (None, 14, 14, 64)           0         ['block_6_project_BN[0][0]',  \n",
      "                                                                     'block_7_project_BN[0][0]']  \n",
      "                                                                                                  \n",
      " block_8_expand (Conv2D)     (None, 14, 14, 384)          24576     ['block_7_add[0][0]']         \n",
      "                                                                                                  \n",
      " block_8_expand_BN (BatchNo  (None, 14, 14, 384)          1536      ['block_8_expand[0][0]']      \n",
      " rmalization)                                                                                     \n",
      "                                                                                                  \n",
      " block_8_expand_relu (ReLU)  (None, 14, 14, 384)          0         ['block_8_expand_BN[0][0]']   \n",
      "                                                                                                  \n",
      " block_8_depthwise (Depthwi  (None, 14, 14, 384)          3456      ['block_8_expand_relu[0][0]'] \n",
      " seConv2D)                                                                                        \n",
      "                                                                                                  \n",
      " block_8_depthwise_BN (Batc  (None, 14, 14, 384)          1536      ['block_8_depthwise[0][0]']   \n",
      " hNormalization)                                                                                  \n",
      "                                                                                                  \n",
      " block_8_depthwise_relu (Re  (None, 14, 14, 384)          0         ['block_8_depthwise_BN[0][0]']\n",
      " LU)                                                                                              \n",
      "                                                                                                  \n",
      " block_8_project (Conv2D)    (None, 14, 14, 64)           24576     ['block_8_depthwise_relu[0][0]\n",
      "                                                                    ']                            \n",
      "                                                                                                  \n",
      " block_8_project_BN (BatchN  (None, 14, 14, 64)           256       ['block_8_project[0][0]']     \n",
      " ormalization)                                                                                    \n",
      "                                                                                                  \n",
      " block_8_add (Add)           (None, 14, 14, 64)           0         ['block_7_add[0][0]',         \n",
      "                                                                     'block_8_project_BN[0][0]']  \n",
      "                                                                                                  \n",
      " block_9_expand (Conv2D)     (None, 14, 14, 384)          24576     ['block_8_add[0][0]']         \n",
      "                                                                                                  \n",
      " block_9_expand_BN (BatchNo  (None, 14, 14, 384)          1536      ['block_9_expand[0][0]']      \n",
      " rmalization)                                                                                     \n",
      "                                                                                                  \n",
      " block_9_expand_relu (ReLU)  (None, 14, 14, 384)          0         ['block_9_expand_BN[0][0]']   \n",
      "                                                                                                  \n",
      " block_9_depthwise (Depthwi  (None, 14, 14, 384)          3456      ['block_9_expand_relu[0][0]'] \n",
      " seConv2D)                                                                                        \n",
      "                                                                                                  \n",
      " block_9_depthwise_BN (Batc  (None, 14, 14, 384)          1536      ['block_9_depthwise[0][0]']   \n",
      " hNormalization)                                                                                  \n",
      "                                                                                                  \n",
      " block_9_depthwise_relu (Re  (None, 14, 14, 384)          0         ['block_9_depthwise_BN[0][0]']\n",
      " LU)                                                                                              \n",
      "                                                                                                  \n",
      " block_9_project (Conv2D)    (None, 14, 14, 64)           24576     ['block_9_depthwise_relu[0][0]\n",
      "                                                                    ']                            \n",
      "                                                                                                  \n",
      " block_9_project_BN (BatchN  (None, 14, 14, 64)           256       ['block_9_project[0][0]']     \n",
      " ormalization)                                                                                    \n",
      "                                                                                                  \n",
      " block_9_add (Add)           (None, 14, 14, 64)           0         ['block_8_add[0][0]',         \n",
      "                                                                     'block_9_project_BN[0][0]']  \n",
      "                                                                                                  \n",
      " block_10_expand (Conv2D)    (None, 14, 14, 384)          24576     ['block_9_add[0][0]']         \n",
      "                                                                                                  \n",
      " block_10_expand_BN (BatchN  (None, 14, 14, 384)          1536      ['block_10_expand[0][0]']     \n",
      " ormalization)                                                                                    \n",
      "                                                                                                  \n",
      " block_10_expand_relu (ReLU  (None, 14, 14, 384)          0         ['block_10_expand_BN[0][0]']  \n",
      " )                                                                                                \n",
      "                                                                                                  \n",
      " block_10_depthwise (Depthw  (None, 14, 14, 384)          3456      ['block_10_expand_relu[0][0]']\n",
      " iseConv2D)                                                                                       \n",
      "                                                                                                  \n",
      " block_10_depthwise_BN (Bat  (None, 14, 14, 384)          1536      ['block_10_depthwise[0][0]']  \n",
      " chNormalization)                                                                                 \n",
      "                                                                                                  \n",
      " block_10_depthwise_relu (R  (None, 14, 14, 384)          0         ['block_10_depthwise_BN[0][0]'\n",
      " eLU)                                                               ]                             \n",
      "                                                                                                  \n",
      " block_10_project (Conv2D)   (None, 14, 14, 96)           36864     ['block_10_depthwise_relu[0][0\n",
      "                                                                    ]']                           \n",
      "                                                                                                  \n",
      " block_10_project_BN (Batch  (None, 14, 14, 96)           384       ['block_10_project[0][0]']    \n",
      " Normalization)                                                                                   \n",
      "                                                                                                  \n",
      " block_11_expand (Conv2D)    (None, 14, 14, 576)          55296     ['block_10_project_BN[0][0]'] \n",
      "                                                                                                  \n",
      " block_11_expand_BN (BatchN  (None, 14, 14, 576)          2304      ['block_11_expand[0][0]']     \n",
      " ormalization)                                                                                    \n",
      "                                                                                                  \n",
      " block_11_expand_relu (ReLU  (None, 14, 14, 576)          0         ['block_11_expand_BN[0][0]']  \n",
      " )                                                                                                \n",
      "                                                                                                  \n",
      " block_11_depthwise (Depthw  (None, 14, 14, 576)          5184      ['block_11_expand_relu[0][0]']\n",
      " iseConv2D)                                                                                       \n",
      "                                                                                                  \n",
      " block_11_depthwise_BN (Bat  (None, 14, 14, 576)          2304      ['block_11_depthwise[0][0]']  \n",
      " chNormalization)                                                                                 \n",
      "                                                                                                  \n",
      " block_11_depthwise_relu (R  (None, 14, 14, 576)          0         ['block_11_depthwise_BN[0][0]'\n",
      " eLU)                                                               ]                             \n",
      "                                                                                                  \n",
      " block_11_project (Conv2D)   (None, 14, 14, 96)           55296     ['block_11_depthwise_relu[0][0\n",
      "                                                                    ]']                           \n",
      "                                                                                                  \n",
      " block_11_project_BN (Batch  (None, 14, 14, 96)           384       ['block_11_project[0][0]']    \n",
      " Normalization)                                                                                   \n",
      "                                                                                                  \n",
      " block_11_add (Add)          (None, 14, 14, 96)           0         ['block_10_project_BN[0][0]', \n",
      "                                                                     'block_11_project_BN[0][0]'] \n",
      "                                                                                                  \n",
      " block_12_expand (Conv2D)    (None, 14, 14, 576)          55296     ['block_11_add[0][0]']        \n",
      "                                                                                                  \n",
      " block_12_expand_BN (BatchN  (None, 14, 14, 576)          2304      ['block_12_expand[0][0]']     \n",
      " ormalization)                                                                                    \n",
      "                                                                                                  \n",
      " block_12_expand_relu (ReLU  (None, 14, 14, 576)          0         ['block_12_expand_BN[0][0]']  \n",
      " )                                                                                                \n",
      "                                                                                                  \n",
      " block_12_depthwise (Depthw  (None, 14, 14, 576)          5184      ['block_12_expand_relu[0][0]']\n",
      " iseConv2D)                                                                                       \n",
      "                                                                                                  \n",
      " block_12_depthwise_BN (Bat  (None, 14, 14, 576)          2304      ['block_12_depthwise[0][0]']  \n",
      " chNormalization)                                                                                 \n",
      "                                                                                                  \n",
      " block_12_depthwise_relu (R  (None, 14, 14, 576)          0         ['block_12_depthwise_BN[0][0]'\n",
      " eLU)                                                               ]                             \n",
      "                                                                                                  \n",
      " block_12_project (Conv2D)   (None, 14, 14, 96)           55296     ['block_12_depthwise_relu[0][0\n",
      "                                                                    ]']                           \n",
      "                                                                                                  \n",
      " block_12_project_BN (Batch  (None, 14, 14, 96)           384       ['block_12_project[0][0]']    \n",
      " Normalization)                                                                                   \n",
      "                                                                                                  \n",
      " block_12_add (Add)          (None, 14, 14, 96)           0         ['block_11_add[0][0]',        \n",
      "                                                                     'block_12_project_BN[0][0]'] \n",
      "                                                                                                  \n",
      " block_13_expand (Conv2D)    (None, 14, 14, 576)          55296     ['block_12_add[0][0]']        \n",
      "                                                                                                  \n",
      " block_13_expand_BN (BatchN  (None, 14, 14, 576)          2304      ['block_13_expand[0][0]']     \n",
      " ormalization)                                                                                    \n",
      "                                                                                                  \n",
      " block_13_expand_relu (ReLU  (None, 14, 14, 576)          0         ['block_13_expand_BN[0][0]']  \n",
      " )                                                                                                \n",
      "                                                                                                  \n",
      " block_13_pad (ZeroPadding2  (None, 15, 15, 576)          0         ['block_13_expand_relu[0][0]']\n",
      " D)                                                                                               \n",
      "                                                                                                  \n",
      " block_13_depthwise (Depthw  (None, 7, 7, 576)            5184      ['block_13_pad[0][0]']        \n",
      " iseConv2D)                                                                                       \n",
      "                                                                                                  \n",
      " block_13_depthwise_BN (Bat  (None, 7, 7, 576)            2304      ['block_13_depthwise[0][0]']  \n",
      " chNormalization)                                                                                 \n",
      "                                                                                                  \n",
      " block_13_depthwise_relu (R  (None, 7, 7, 576)            0         ['block_13_depthwise_BN[0][0]'\n",
      " eLU)                                                               ]                             \n",
      "                                                                                                  \n",
      " block_13_project (Conv2D)   (None, 7, 7, 160)            92160     ['block_13_depthwise_relu[0][0\n",
      "                                                                    ]']                           \n",
      "                                                                                                  \n",
      " block_13_project_BN (Batch  (None, 7, 7, 160)            640       ['block_13_project[0][0]']    \n",
      " Normalization)                                                                                   \n",
      "                                                                                                  \n",
      " block_14_expand (Conv2D)    (None, 7, 7, 960)            153600    ['block_13_project_BN[0][0]'] \n",
      "                                                                                                  \n",
      " block_14_expand_BN (BatchN  (None, 7, 7, 960)            3840      ['block_14_expand[0][0]']     \n",
      " ormalization)                                                                                    \n",
      "                                                                                                  \n",
      " block_14_expand_relu (ReLU  (None, 7, 7, 960)            0         ['block_14_expand_BN[0][0]']  \n",
      " )                                                                                                \n",
      "                                                                                                  \n",
      " block_14_depthwise (Depthw  (None, 7, 7, 960)            8640      ['block_14_expand_relu[0][0]']\n",
      " iseConv2D)                                                                                       \n",
      "                                                                                                  \n",
      " block_14_depthwise_BN (Bat  (None, 7, 7, 960)            3840      ['block_14_depthwise[0][0]']  \n",
      " chNormalization)                                                                                 \n",
      "                                                                                                  \n",
      " block_14_depthwise_relu (R  (None, 7, 7, 960)            0         ['block_14_depthwise_BN[0][0]'\n",
      " eLU)                                                               ]                             \n",
      "                                                                                                  \n",
      " block_14_project (Conv2D)   (None, 7, 7, 160)            153600    ['block_14_depthwise_relu[0][0\n",
      "                                                                    ]']                           \n",
      "                                                                                                  \n",
      " block_14_project_BN (Batch  (None, 7, 7, 160)            640       ['block_14_project[0][0]']    \n",
      " Normalization)                                                                                   \n",
      "                                                                                                  \n",
      " block_14_add (Add)          (None, 7, 7, 160)            0         ['block_13_project_BN[0][0]', \n",
      "                                                                     'block_14_project_BN[0][0]'] \n",
      "                                                                                                  \n",
      " block_15_expand (Conv2D)    (None, 7, 7, 960)            153600    ['block_14_add[0][0]']        \n",
      "                                                                                                  \n",
      " block_15_expand_BN (BatchN  (None, 7, 7, 960)            3840      ['block_15_expand[0][0]']     \n",
      " ormalization)                                                                                    \n",
      "                                                                                                  \n",
      " block_15_expand_relu (ReLU  (None, 7, 7, 960)            0         ['block_15_expand_BN[0][0]']  \n",
      " )                                                                                                \n",
      "                                                                                                  \n",
      " block_15_depthwise (Depthw  (None, 7, 7, 960)            8640      ['block_15_expand_relu[0][0]']\n",
      " iseConv2D)                                                                                       \n",
      "                                                                                                  \n",
      " block_15_depthwise_BN (Bat  (None, 7, 7, 960)            3840      ['block_15_depthwise[0][0]']  \n",
      " chNormalization)                                                                                 \n",
      "                                                                                                  \n",
      " block_15_depthwise_relu (R  (None, 7, 7, 960)            0         ['block_15_depthwise_BN[0][0]'\n",
      " eLU)                                                               ]                             \n",
      "                                                                                                  \n",
      " block_15_project (Conv2D)   (None, 7, 7, 160)            153600    ['block_15_depthwise_relu[0][0\n",
      "                                                                    ]']                           \n",
      "                                                                                                  \n",
      " block_15_project_BN (Batch  (None, 7, 7, 160)            640       ['block_15_project[0][0]']    \n",
      " Normalization)                                                                                   \n",
      "                                                                                                  \n",
      " block_15_add (Add)          (None, 7, 7, 160)            0         ['block_14_add[0][0]',        \n",
      "                                                                     'block_15_project_BN[0][0]'] \n",
      "                                                                                                  \n",
      " block_16_expand (Conv2D)    (None, 7, 7, 960)            153600    ['block_15_add[0][0]']        \n",
      "                                                                                                  \n",
      " block_16_expand_BN (BatchN  (None, 7, 7, 960)            3840      ['block_16_expand[0][0]']     \n",
      " ormalization)                                                                                    \n",
      "                                                                                                  \n",
      " block_16_expand_relu (ReLU  (None, 7, 7, 960)            0         ['block_16_expand_BN[0][0]']  \n",
      " )                                                                                                \n",
      "                                                                                                  \n",
      " block_16_depthwise (Depthw  (None, 7, 7, 960)            8640      ['block_16_expand_relu[0][0]']\n",
      " iseConv2D)                                                                                       \n",
      "                                                                                                  \n",
      " block_16_depthwise_BN (Bat  (None, 7, 7, 960)            3840      ['block_16_depthwise[0][0]']  \n",
      " chNormalization)                                                                                 \n",
      "                                                                                                  \n",
      " block_16_depthwise_relu (R  (None, 7, 7, 960)            0         ['block_16_depthwise_BN[0][0]'\n",
      " eLU)                                                               ]                             \n",
      "                                                                                                  \n",
      " block_16_project (Conv2D)   (None, 7, 7, 320)            307200    ['block_16_depthwise_relu[0][0\n",
      "                                                                    ]']                           \n",
      "                                                                                                  \n",
      " block_16_project_BN (Batch  (None, 7, 7, 320)            1280      ['block_16_project[0][0]']    \n",
      " Normalization)                                                                                   \n",
      "                                                                                                  \n",
      " Conv_1 (Conv2D)             (None, 7, 7, 1280)           409600    ['block_16_project_BN[0][0]'] \n",
      "                                                                                                  \n",
      " Conv_1_bn (BatchNormalizat  (None, 7, 7, 1280)           5120      ['Conv_1[0][0]']              \n",
      " ion)                                                                                             \n",
      "                                                                                                  \n",
      " out_relu (ReLU)             (None, 7, 7, 1280)           0         ['Conv_1_bn[0][0]']           \n",
      "                                                                                                  \n",
      " global_average_pooling2d (  (None, 1280)                 0         ['out_relu[0][0]']            \n",
      " GlobalAveragePooling2D)                                                                          \n",
      "                                                                                                  \n",
      " predictions (Dense)         (None, 1000)                 1281000   ['global_average_pooling2d[0][\n",
      "                                                                    0]']                          \n",
      "                                                                                                  \n",
      "==================================================================================================\n",
      "Total params: 3538984 (13.50 MB)\n",
      "Trainable params: 3504872 (13.37 MB)\n",
      "Non-trainable params: 34112 (133.25 KB)\n",
      "__________________________________________________________________________________________________\n"
     ]
    }
   ],
   "source": [
    "model.summary()"
   ]
  },
  {
   "cell_type": "markdown",
   "metadata": {
    "id": "alx_uTcOZRIR"
   },
   "source": [
    "Model Tuning"
   ]
  },
  {
   "cell_type": "code",
   "execution_count": 20,
   "metadata": {
    "colab": {
     "base_uri": "https://localhost:8080/"
    },
    "executionInfo": {
     "elapsed": 47,
     "status": "ok",
     "timestamp": 1719286342457,
     "user": {
      "displayName": "isuru madhushan",
      "userId": "05680374680553661511"
     },
     "user_tz": -330
    },
    "id": "9SRpkUvLWh-V",
    "outputId": "0e6fda6d-3adc-4a82-96e5-1fbfa3b271f9"
   },
   "outputs": [
    {
     "data": {
      "text/plain": [
       "<KerasTensor: shape=(None, 224, 224, 3) dtype=float32 (created by layer 'input_1')>"
      ]
     },
     "execution_count": 20,
     "metadata": {},
     "output_type": "execute_result"
    }
   ],
   "source": [
    "base_input = model.layers[1].input\n",
    "base_input"
   ]
  },
  {
   "cell_type": "code",
   "execution_count": 21,
   "metadata": {
    "colab": {
     "base_uri": "https://localhost:8080/"
    },
    "executionInfo": {
     "elapsed": 13,
     "status": "ok",
     "timestamp": 1719286342457,
     "user": {
      "displayName": "isuru madhushan",
      "userId": "05680374680553661511"
     },
     "user_tz": -330
    },
    "id": "yX6UViGnWh-V",
    "outputId": "fbbdc12d-439d-4f7b-a086-d8cc0b8cdc37"
   },
   "outputs": [
    {
     "data": {
      "text/plain": [
       "<KerasTensor: shape=(None, 1280) dtype=float32 (created by layer 'global_average_pooling2d')>"
      ]
     },
     "execution_count": 21,
     "metadata": {},
     "output_type": "execute_result"
    }
   ],
   "source": [
    "base_output = model.layers[-2].output\n",
    "base_output"
   ]
  },
  {
   "cell_type": "markdown",
   "metadata": {},
   "source": [
    "### Model Building"
   ]
  },
  {
   "cell_type": "code",
   "execution_count": 22,
   "metadata": {
    "executionInfo": {
     "elapsed": 9,
     "status": "ok",
     "timestamp": 1719286342458,
     "user": {
      "displayName": "isuru madhushan",
      "userId": "05680374680553661511"
     },
     "user_tz": -330
    },
    "id": "g29kemqXWh-W"
   },
   "outputs": [],
   "source": [
    "final_output = keras.layers.Dense(128)(base_output)\n",
    "final_output = layers.Activation('relu')(final_output)\n",
    "final_output = keras.layers.Dense(64)(final_output)\n",
    "final_output = layers.Activation('relu')(final_output)\n",
    "final_output = keras.layers.Dense(7,activation='softmax')(final_output)"
   ]
  },
  {
   "cell_type": "code",
   "execution_count": 23,
   "metadata": {
    "colab": {
     "base_uri": "https://localhost:8080/"
    },
    "executionInfo": {
     "elapsed": 14,
     "status": "ok",
     "timestamp": 1719286343190,
     "user": {
      "displayName": "isuru madhushan",
      "userId": "05680374680553661511"
     },
     "user_tz": -330
    },
    "id": "Okt9p8UCZjZj",
    "outputId": "d007a210-2df2-4467-e43a-9172e17282eb"
   },
   "outputs": [
    {
     "data": {
      "text/plain": [
       "<KerasTensor: shape=(None, 7) dtype=float32 (created by layer 'dense_2')>"
      ]
     },
     "execution_count": 23,
     "metadata": {},
     "output_type": "execute_result"
    }
   ],
   "source": [
    "final_output\n"
   ]
  },
  {
   "cell_type": "code",
   "execution_count": 24,
   "metadata": {
    "executionInfo": {
     "elapsed": 797,
     "status": "ok",
     "timestamp": 1719286345198,
     "user": {
      "displayName": "isuru madhushan",
      "userId": "05680374680553661511"
     },
     "user_tz": -330
    },
    "id": "g4BCJE80Zl1X"
   },
   "outputs": [],
   "source": [
    "new_model = keras.Model(inputs=base_input,outputs= final_output)"
   ]
  },
  {
   "cell_type": "markdown",
   "metadata": {
    "id": "NLt8UXJ0ZriW"
   },
   "source": [
    "## Compile model"
   ]
  },
  {
   "cell_type": "code",
   "execution_count": 25,
   "metadata": {
    "executionInfo": {
     "elapsed": 7,
     "status": "ok",
     "timestamp": 1719286347748,
     "user": {
      "displayName": "isuru madhushan",
      "userId": "05680374680553661511"
     },
     "user_tz": -330
    },
    "id": "Rri0mLhaZofb"
   },
   "outputs": [
    {
     "name": "stdout",
     "output_type": "stream",
     "text": [
      "WARNING:tensorflow:From c:\\Users\\Admin\\anaconda3\\lib\\site-packages\\keras\\src\\optimizers\\__init__.py:309: The name tf.train.Optimizer is deprecated. Please use tf.compat.v1.train.Optimizer instead.\n",
      "\n"
     ]
    }
   ],
   "source": [
    "new_model.compile(loss=\"sparse_categorical_crossentropy\",optimizer=\"adam\",metrics=[\"accuracy\"])"
   ]
  },
  {
   "cell_type": "markdown",
   "metadata": {
    "id": "6Uql-BZSZwlh"
   },
   "source": [
    "## Model training"
   ]
  },
  {
   "cell_type": "code",
   "execution_count": null,
   "metadata": {
    "colab": {
     "base_uri": "https://localhost:8080/"
    },
    "executionInfo": {
     "elapsed": 189704,
     "status": "ok",
     "timestamp": 1719289710298,
     "user": {
      "displayName": "isuru madhushan",
      "userId": "05680374680553661511"
     },
     "user_tz": -330
    },
    "id": "2GH3xDMEZtL1",
    "outputId": "c83fea6f-39ba-4ede-8bb3-aa635f4cc2f5"
   },
   "outputs": [
    {
     "name": "stdout",
     "output_type": "stream",
     "text": [
      "Epoch 1/15\n"
     ]
    },
    {
     "name": "stdout",
     "output_type": "stream",
     "text": [
      "WARNING:tensorflow:From c:\\Users\\Admin\\anaconda3\\lib\\site-packages\\keras\\src\\utils\\tf_utils.py:492: The name tf.ragged.RaggedTensorValue is deprecated. Please use tf.compat.v1.ragged.RaggedTensorValue instead.\n",
      "\n",
      "WARNING:tensorflow:From c:\\Users\\Admin\\anaconda3\\lib\\site-packages\\keras\\src\\engine\\base_layer_utils.py:384: The name tf.executing_eagerly_outside_functions is deprecated. Please use tf.compat.v1.executing_eagerly_outside_functions instead.\n",
      "\n",
      "  3/449 [..............................] - ETA: 2:47:34 - loss: 2.0181 - accuracy: 0.1823"
     ]
    }
   ],
   "source": [
    "history=new_model.fit(train_data,\n",
    "                      validation_data=validation_data,\n",
    "                      epochs=15\n",
    "        )"
   ]
  },
  {
   "cell_type": "code",
   "execution_count": null,
   "metadata": {
    "colab": {
     "base_uri": "https://localhost:8080/",
     "height": 472
    },
    "executionInfo": {
     "elapsed": 1207,
     "status": "ok",
     "timestamp": 1719289711503,
     "user": {
      "displayName": "isuru madhushan",
      "userId": "05680374680553661511"
     },
     "user_tz": -330
    },
    "id": "gmPtFhYKoTIJ",
    "outputId": "f4880cee-5293-40e8-fa93-6fa1c87e6352"
   },
   "outputs": [],
   "source": [
    "fig = plt.figure()\n",
    "plt.plot(history.history['loss'], color='teal', label='loss')\n",
    "plt.plot(history.history['val_loss'], color='orange', label='val_loss')\n",
    "fig.suptitle('Loss', fontsize=20)\n",
    "plt.legend()\n",
    "plt.show()"
   ]
  },
  {
   "cell_type": "code",
   "execution_count": null,
   "metadata": {
    "colab": {
     "base_uri": "https://localhost:8080/",
     "height": 472
    },
    "executionInfo": {
     "elapsed": 10,
     "status": "ok",
     "timestamp": 1719289711509,
     "user": {
      "displayName": "isuru madhushan",
      "userId": "05680374680553661511"
     },
     "user_tz": -330
    },
    "id": "Oe7R9c5K9Lsr",
    "outputId": "4a18796c-f8fc-40d8-dc44-6ac81aeab092"
   },
   "outputs": [],
   "source": [
    "\n",
    "fig = plt.figure()\n",
    "plt.plot(history.history['accuracy'], color='teal', label='accuracy')\n",
    "plt.plot(history.history['val_accuracy'], color='orange', label='val_accuracy')\n",
    "fig.suptitle('Accuracy', fontsize=20)\n",
    "plt.legend()\n",
    "plt.show()"
   ]
  },
  {
   "cell_type": "code",
   "execution_count": null,
   "metadata": {
    "colab": {
     "base_uri": "https://localhost:8080/"
    },
    "executionInfo": {
     "elapsed": 491,
     "status": "ok",
     "timestamp": 1719289711993,
     "user": {
      "displayName": "isuru madhushan",
      "userId": "05680374680553661511"
     },
     "user_tz": -330
    },
    "id": "JOQuB4G0Z2MO",
    "outputId": "f2ccf980-d28e-45ef-bb5b-72ea21f0aa27"
   },
   "outputs": [],
   "source": [
    "new_model.save(\"face_emotion.h5\")"
   ]
  },
  {
   "cell_type": "code",
   "execution_count": 80,
   "metadata": {
    "executionInfo": {
     "elapsed": 1929,
     "status": "ok",
     "timestamp": 1719289713921,
     "user": {
      "displayName": "isuru madhushan",
      "userId": "05680374680553661511"
     },
     "user_tz": -330
    },
    "id": "FIrgry8GlSQJ"
   },
   "outputs": [],
   "source": [
    "final_model = tf.keras.models.load_model(\"./face_emotion.h5\")"
   ]
  },
  {
   "cell_type": "code",
   "execution_count": 96,
   "metadata": {
    "colab": {
     "base_uri": "https://localhost:8080/"
    },
    "executionInfo": {
     "elapsed": 14,
     "status": "ok",
     "timestamp": 1719289713939,
     "user": {
      "displayName": "isuru madhushan",
      "userId": "05680374680553661511"
     },
     "user_tz": -330
    },
    "id": "L0yfFH1ko7Vc",
    "outputId": "f0c73ca6-b205-4cf2-b542-4e7e9cbe6878"
   },
   "outputs": [
    {
     "data": {
      "text/plain": [
       "(192, 204, 3)"
      ]
     },
     "execution_count": 96,
     "metadata": {},
     "output_type": "execute_result"
    }
   ],
   "source": [
    "img_path = \"../Data_Set/fer2013/Happy.jpeg\"\n",
    "img = cv2.imread(img_path)\n",
    "img.shape\n"
   ]
  },
  {
   "cell_type": "code",
   "execution_count": 97,
   "metadata": {
    "executionInfo": {
     "elapsed": 11,
     "status": "ok",
     "timestamp": 1719289713940,
     "user": {
      "displayName": "isuru madhushan",
      "userId": "05680374680553661511"
     },
     "user_tz": -330
    },
    "id": "GRF3UKWXpFqW"
   },
   "outputs": [],
   "source": [
    "resized_image = tf.image.resize(img, IMAGE_SIZE)\n",
    "scaled_image = resized_image/255"
   ]
  },
  {
   "cell_type": "code",
   "execution_count": 98,
   "metadata": {
    "colab": {
     "base_uri": "https://localhost:8080/"
    },
    "executionInfo": {
     "elapsed": 6,
     "status": "ok",
     "timestamp": 1719289714394,
     "user": {
      "displayName": "isuru madhushan",
      "userId": "05680374680553661511"
     },
     "user_tz": -330
    },
    "id": "sJ3cPSemtV6_",
    "outputId": "d9496618-319c-4396-cfbd-a7ffe2ba87ab"
   },
   "outputs": [],
   "source": [
    "# np.expand_dims(scaled_image, 0).shape"
   ]
  },
  {
   "cell_type": "code",
   "execution_count": 99,
   "metadata": {
    "colab": {
     "base_uri": "https://localhost:8080/"
    },
    "executionInfo": {
     "elapsed": 1688,
     "status": "ok",
     "timestamp": 1719289716082,
     "user": {
      "displayName": "isuru madhushan",
      "userId": "05680374680553661511"
     },
     "user_tz": -330
    },
    "id": "Q3VdP7vFqFx4",
    "outputId": "25cdafc8-cb97-4dff-b539-f63e8ae2d6d0"
   },
   "outputs": [
    {
     "name": "stdout",
     "output_type": "stream",
     "text": [
      "1/1 [==============================] - 0s 138ms/step\n"
     ]
    },
    {
     "data": {
      "text/plain": [
       "array([[2.5452247e-02, 8.3516406e-06, 1.6921422e-05, 9.7183663e-01,\n",
       "        2.4795523e-03, 1.9137709e-05, 1.8715783e-04]], dtype=float32)"
      ]
     },
     "execution_count": 99,
     "metadata": {},
     "output_type": "execute_result"
    }
   ],
   "source": [
    "prediction=final_model.predict(np.expand_dims(scaled_image, 0))\n",
    "prediction"
   ]
  },
  {
   "cell_type": "code",
   "execution_count": 100,
   "metadata": {
    "colab": {
     "base_uri": "https://localhost:8080/"
    },
    "executionInfo": {
     "elapsed": 14,
     "status": "ok",
     "timestamp": 1719289716084,
     "user": {
      "displayName": "isuru madhushan",
      "userId": "05680374680553661511"
     },
     "user_tz": -330
    },
    "id": "NXoP0EfUqSqN",
    "outputId": "d28f349d-9b29-4892-e3c3-7ab80a6cd3c0"
   },
   "outputs": [
    {
     "name": "stdout",
     "output_type": "stream",
     "text": [
      "Happy\n"
     ]
    },
    {
     "data": {
      "text/plain": [
       "<matplotlib.image.AxesImage at 0x2aeea4f22e0>"
      ]
     },
     "execution_count": 100,
     "metadata": {},
     "output_type": "execute_result"
    },
    {
     "data": {
      "image/png": "[encoded data removed]",
      "text/plain": [
       "<Figure size 640x480 with 1 Axes>"
      ]
     },
     "metadata": {},
     "output_type": "display_data"
    }
   ],
   "source": [
    "label = np.argmax(prediction)\n",
    "\n",
    "if label == 0:\n",
    "  print(\"Angry\")\n",
    "elif label == 1:\n",
    "  print(\"Disgust\")\n",
    "elif label ==2:\n",
    "  print(\"Fear\")\n",
    "elif label ==3:\n",
    "  print(\"Happy\")\n",
    "elif label ==4:\n",
    "  print(\"Neutral\")\n",
    "elif label ==5:\n",
    "  print(\"Sad\")\n",
    "elif label ==6:\n",
    "  print(\"Suprise\")\n",
    "\n",
    "plt.imshow(cv2.cvtColor(img,cv2.COLOR_BGR2RGB))"
   ]
  },
  {
   "cell_type": "code",
   "execution_count": null,
   "metadata": {},
   "outputs": [],
   "source": []
  }
 ],
 "metadata": {
  "accelerator": "GPU",
  "colab": {
   "gpuType": "T4",
   "provenance": []
  },
  "kernelspec": {
   "display_name": "base",
   "language": "python",
   "name": "python3"
  },
  "language_info": {
   "codemirror_mode": {
    "name": "ipython",
    "version": 3
   },
   "file_extension": ".py",
   "mimetype": "text/x-python",
   "name": "python",
   "nbconvert_exporter": "python",
   "pygments_lexer": "ipython3",
   "version": "3.9.13"
  }
 },
 "nbformat": 4,
 "nbformat_minor": 0
}
